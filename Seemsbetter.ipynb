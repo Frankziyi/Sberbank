{
 "cells": [
  {
   "cell_type": "code",
   "execution_count": 1,
   "metadata": {
    "collapsed": false
   },
   "outputs": [
    {
     "name": "stderr",
     "output_type": "stream",
     "text": [
      "C:\\Users\\Administrator\\Anaconda3\\lib\\site-packages\\sklearn\\cross_validation.py:44: DeprecationWarning: This module was deprecated in version 0.18 in favor of the model_selection module into which all the refactored classes and functions are moved. Also note that the interface of the new CV iterators are different from that of this module. This module will be removed in 0.20.\n",
      "  \"This module will be removed in 0.20.\", DeprecationWarning)\n"
     ]
    }
   ],
   "source": [
    "import numpy as np\n",
    "import pandas as pd\n",
    "import xgboost as xgb"
   ]
  },
  {
   "cell_type": "code",
   "execution_count": 2,
   "metadata": {
    "collapsed": true
   },
   "outputs": [],
   "source": [
    "train_df = pd.read_csv(\"./train.csv\")\n",
    "train_df[\"datetime\"] = pd.to_datetime(train_df[\"timestamp\"])\n",
    "train_df[\"year\"] = train_df[\"datetime\"].dt.year\n",
    "train_df[\"month\"] = train_df[\"datetime\"].dt.month\n",
    "train_df[\"day\"] = train_df[\"datetime\"].dt.day"
   ]
  },
  {
   "cell_type": "code",
   "execution_count": 3,
   "metadata": {
    "collapsed": true
   },
   "outputs": [],
   "source": [
    "temp = train_df['build_year'].copy()\n",
    "temp[train_df[\"build_year\"] > 1000] = train_df[\"year\"][train_df[\"build_year\"] > 1000] - train_df[\"build_year\"][train_df[\"build_year\"] > 1000]\n",
    "train_df[\"build_year\"] = temp"
   ]
  },
  {
   "cell_type": "code",
   "execution_count": 4,
   "metadata": {
    "collapsed": false
   },
   "outputs": [
    {
     "data": {
      "text/plain": [
       "-1    19448\n",
       " 1    11023\n",
       "Name: product_type, dtype: int64"
      ]
     },
     "execution_count": 4,
     "metadata": {},
     "output_type": "execute_result"
    }
   ],
   "source": [
    "train_df[\"product_type\"] = train_df[\"product_type\"].replace(\"Investment\", -1)\n",
    "train_df[\"product_type\"] = train_df[\"product_type\"].replace(\"OwnerOccupier\", 1)\n",
    "train_df[\"product_type\"].value_counts()"
   ]
  },
  {
   "cell_type": "code",
   "execution_count": 6,
   "metadata": {
    "collapsed": false
   },
   "outputs": [
    {
     "data": {
      "text/plain": [
       "-1.0    4998\n",
       " 1.0    2631\n",
       "Name: product_type, dtype: int64"
      ]
     },
     "execution_count": 6,
     "metadata": {},
     "output_type": "execute_result"
    }
   ],
   "source": [
    "test_df = pd.read_csv(\"./test.csv\")\n",
    "test_df[\"datetime\"] = pd.to_datetime(test_df[\"timestamp\"])\n",
    "test_df[\"year\"] = test_df[\"datetime\"].dt.year\n",
    "test_df[\"month\"] = test_df[\"datetime\"].dt.month\n",
    "test_df[\"day\"] = test_df[\"datetime\"].dt.day\n",
    "temp2 = test_df['build_year'].copy()\n",
    "temp2[test_df[\"build_year\"] > 1000] = test_df[\"year\"][test_df[\"build_year\"] > 1000] - test_df[\"build_year\"][test_df[\"build_year\"] > 1000]\n",
    "test_df[\"build_year\"] = temp2\n",
    "test_df[\"product_type\"] = test_df[\"product_type\"].replace(\"Investment\", -1)\n",
    "test_df[\"product_type\"] = test_df[\"product_type\"].replace(\"OwnerOccupier\", 1)\n",
    "test_df[\"product_type\"].value_counts()"
   ]
  },
  {
   "cell_type": "code",
   "execution_count": 7,
   "metadata": {
    "collapsed": true
   },
   "outputs": [],
   "source": [
    "train_df = train_df.replace({\"no\": -1, \"yes\": 1})\n",
    "test_df = test_df.replace({\"no\": -1, \"yes\": 1})"
   ]
  },
  {
   "cell_type": "code",
   "execution_count": 8,
   "metadata": {
    "collapsed": false
   },
   "outputs": [],
   "source": [
    "inplace1 = (train_df[\"full_sq\"] < train_df[\"life_sq\"]) & (train_df[\"full_sq\"] < 10)"
   ]
  },
  {
   "cell_type": "code",
   "execution_count": 10,
   "metadata": {
    "collapsed": false
   },
   "outputs": [
    {
     "data": {
      "text/plain": [
       "False    30464\n",
       "True         7\n",
       "dtype: int64"
      ]
     },
     "execution_count": 10,
     "metadata": {},
     "output_type": "execute_result"
    }
   ],
   "source": [
    "inplace1.value_counts()"
   ]
  },
  {
   "cell_type": "code",
   "execution_count": 11,
   "metadata": {
    "collapsed": false
   },
   "outputs": [],
   "source": [
    "temp3 = train_df[\"full_sq\"].copy()\n",
    "temp3[inplace1] = train_df[\"life_sq\"][inplace1]\n",
    "train_df[\"full_sq\"] = temp3"
   ]
  },
  {
   "cell_type": "code",
   "execution_count": 12,
   "metadata": {
    "collapsed": true
   },
   "outputs": [
    {
     "data": {
      "text/plain": [
       "38      1928\n",
       "37      1232\n",
       "39      1013\n",
       "44      1009\n",
       "45       943\n",
       "40       862\n",
       "32       846\n",
       "43       832\n",
       "41       764\n",
       "51       750\n",
       "42       695\n",
       "53       665\n",
       "52       654\n",
       "60       636\n",
       "63       628\n",
       "34       614\n",
       "35       613\n",
       "64       609\n",
       "58       576\n",
       "59       575\n",
       "54       567\n",
       "36       544\n",
       "61       543\n",
       "31       516\n",
       "46       479\n",
       "62       474\n",
       "79       470\n",
       "57       466\n",
       "74       466\n",
       "56       447\n",
       "        ... \n",
       "637        1\n",
       "461        1\n",
       "189        1\n",
       "173        1\n",
       "5326       1\n",
       "412        1\n",
       "204        1\n",
       "603        1\n",
       "11         1\n",
       "394        1\n",
       "218        1\n",
       "186        1\n",
       "10         1\n",
       "729        1\n",
       "185        1\n",
       "216        1\n",
       "184        1\n",
       "168        1\n",
       "207        1\n",
       "407        1\n",
       "215        1\n",
       "199        1\n",
       "182        1\n",
       "6          1\n",
       "325        1\n",
       "388        1\n",
       "291        1\n",
       "275        1\n",
       "195        1\n",
       "0          1\n",
       "Name: full_sq, Length: 209, dtype: int64"
      ]
     },
     "execution_count": 12,
     "metadata": {},
     "output_type": "execute_result"
    }
   ],
   "source": [
    "train_df[\"full_sq\"].value_counts()"
   ]
  },
  {
   "cell_type": "code",
   "execution_count": 23,
   "metadata": {
    "collapsed": false
   },
   "outputs": [
    {
     "data": {
      "text/plain": [
       "False    30060\n",
       "True       411\n",
       "dtype: int64"
      ]
     },
     "execution_count": 23,
     "metadata": {},
     "output_type": "execute_result"
    }
   ],
   "source": [
    "inplace2 = (train_df[\"full_sq\"] > 30) & (train_df[\"life_sq\"] < 10)\n",
    "inplace2.value_counts()"
   ]
  },
  {
   "cell_type": "code",
   "execution_count": 24,
   "metadata": {
    "collapsed": true
   },
   "outputs": [],
   "source": [
    "temp4 = train_df[\"life_sq\"].copy()\n",
    "temp4[inplace2] = train_df[\"full_sq\"][inplace2]\n",
    "train_df[\"life_sq\"] = temp4"
   ]
  },
  {
   "cell_type": "code",
   "execution_count": 28,
   "metadata": {
    "collapsed": false
   },
   "outputs": [
    {
     "data": {
      "text/plain": [
       "False    30441\n",
       "True        30\n",
       "dtype: int64"
      ]
     },
     "execution_count": 28,
     "metadata": {},
     "output_type": "execute_result"
    }
   ],
   "source": [
    "inplace3 = (train_df[\"full_sq\"] < train_df[\"life_sq\"]) & (train_df[\"life_sq\"] > 10)\n",
    "inplace3.value_counts()"
   ]
  },
  {
   "cell_type": "code",
   "execution_count": 29,
   "metadata": {
    "collapsed": true
   },
   "outputs": [],
   "source": [
    "temp5 = train_df[\"life_sq\"].copy()\n",
    "temp5[inplace3] = train_df[\"full_sq\"][inplace3]\n",
    "train_df[\"life_sq\"] = temp5"
   ]
  },
  {
   "cell_type": "code",
   "execution_count": 30,
   "metadata": {
    "collapsed": true
   },
   "outputs": [],
   "source": [
    "inplace1 = (test_df[\"full_sq\"] < test_df[\"life_sq\"]) & (test_df[\"full_sq\"] < 10)\n",
    "temp3 = test_df[\"full_sq\"].copy()\n",
    "temp3[inplace1] = test_df[\"life_sq\"][inplace1]\n",
    "test_df[\"full_sq\"] = temp3\n",
    "inplace2 = (test_df[\"full_sq\"] > 30) & (test_df[\"life_sq\"] < 10)\n",
    "temp4 = test_df[\"life_sq\"].copy()\n",
    "temp4[inplace2] = test_df[\"full_sq\"][inplace2]\n",
    "test_df[\"life_sq\"] = temp4\n",
    "inplace3 = (test_df[\"full_sq\"] < test_df[\"life_sq\"]) & (test_df[\"life_sq\"] > 10)\n",
    "temp5 = test_df[\"life_sq\"].copy()\n",
    "temp5[inplace3] = test_df[\"full_sq\"][inplace3]\n",
    "test_df[\"life_sq\"] = temp5"
   ]
  },
  {
   "cell_type": "code",
   "execution_count": 31,
   "metadata": {
    "collapsed": true
   },
   "outputs": [],
   "source": [
    "y_train = train_df['price_doc'].values\n",
    "id_test = test_df['id']\n",
    "train_df.drop(['timestamp'], axis=1, inplace=True)\n",
    "train_df.drop(['year'], axis=1, inplace=True)\n",
    "train_df.drop(['month'], axis=1, inplace=True)\n",
    "train_df.drop(['day'], axis=1, inplace=True)\n",
    "test_df.drop(['timestamp'], axis=1, inplace=True)\n",
    "test_df.drop(['year'], axis=1, inplace=True)\n",
    "test_df.drop(['month'], axis=1, inplace=True)\n",
    "test_df.drop(['day'], axis=1, inplace=True)\n",
    "train_df.drop(['datetime'], axis=1, inplace=True)\n",
    "test_df.drop(['datetime'], axis=1, inplace=True)\n",
    "train_df[\"ecology\"] = train_df[\"ecology\"].replace(\"poor\", -1)\n",
    "train_df[\"ecology\"] = train_df[\"ecology\"].replace(\"no data\", 0)\n",
    "train_df[\"ecology\"] = train_df[\"ecology\"].replace(\"satisfactory\", 1)\n",
    "train_df[\"ecology\"] = train_df[\"ecology\"].replace(\"good\", 2)\n",
    "train_df[\"ecology\"] = train_df[\"ecology\"].replace(\"excellent\", 3)\n",
    "test_df[\"ecology\"] = test_df[\"ecology\"].replace(\"poor\", -1)\n",
    "test_df[\"ecology\"] = test_df[\"ecology\"].replace(\"no data\", 0)\n",
    "test_df[\"ecology\"] = test_df[\"ecology\"].replace(\"satisfactory\", 1)\n",
    "test_df[\"ecology\"] = test_df[\"ecology\"].replace(\"good\", 2)\n",
    "test_df[\"ecology\"] = test_df[\"ecology\"].replace(\"excellent\", 3)"
   ]
  },
  {
   "cell_type": "code",
   "execution_count": 48,
   "metadata": {
    "collapsed": true
   },
   "outputs": [],
   "source": [
    "train_df.drop(\"id\", axis=1, inplace=True)\n",
    "train_df.drop(\"price_doc\", axis=1, inplace=True)"
   ]
  },
  {
   "cell_type": "code",
   "execution_count": 49,
   "metadata": {
    "collapsed": true
   },
   "outputs": [],
   "source": [
    "test_df.drop(\"id\", axis=1, inplace=True)"
   ]
  },
  {
   "cell_type": "code",
   "execution_count": 50,
   "metadata": {
    "collapsed": false
   },
   "outputs": [
    {
     "ename": "ValueError",
     "evalue": "labels ['sub_area'] not contained in axis",
     "output_type": "error",
     "traceback": [
      "\u001b[0;31m---------------------------------------------------------------------------\u001b[0m",
      "\u001b[0;31mValueError\u001b[0m                                Traceback (most recent call last)",
      "\u001b[0;32m<ipython-input-50-916758dedfb4>\u001b[0m in \u001b[0;36m<module>\u001b[0;34m()\u001b[0m\n\u001b[0;32m----> 1\u001b[0;31m \u001b[0mtest_df\u001b[0m\u001b[1;33m.\u001b[0m\u001b[0mdrop\u001b[0m\u001b[1;33m(\u001b[0m\u001b[1;34m\"sub_area\"\u001b[0m\u001b[1;33m,\u001b[0m \u001b[0maxis\u001b[0m\u001b[1;33m=\u001b[0m\u001b[1;36m1\u001b[0m\u001b[1;33m,\u001b[0m \u001b[0minplace\u001b[0m\u001b[1;33m=\u001b[0m\u001b[1;32mTrue\u001b[0m\u001b[1;33m)\u001b[0m\u001b[1;33m\u001b[0m\u001b[0m\n\u001b[0m",
      "\u001b[0;32mC:\\Users\\Administrator\\AppData\\Roaming\\Python\\Python35\\site-packages\\pandas\\core\\generic.py\u001b[0m in \u001b[0;36mdrop\u001b[0;34m(self, labels, axis, level, inplace, errors)\u001b[0m\n\u001b[1;32m   2048\u001b[0m                 \u001b[0mnew_axis\u001b[0m \u001b[1;33m=\u001b[0m \u001b[0maxis\u001b[0m\u001b[1;33m.\u001b[0m\u001b[0mdrop\u001b[0m\u001b[1;33m(\u001b[0m\u001b[0mlabels\u001b[0m\u001b[1;33m,\u001b[0m \u001b[0mlevel\u001b[0m\u001b[1;33m=\u001b[0m\u001b[0mlevel\u001b[0m\u001b[1;33m,\u001b[0m \u001b[0merrors\u001b[0m\u001b[1;33m=\u001b[0m\u001b[0merrors\u001b[0m\u001b[1;33m)\u001b[0m\u001b[1;33m\u001b[0m\u001b[0m\n\u001b[1;32m   2049\u001b[0m             \u001b[1;32melse\u001b[0m\u001b[1;33m:\u001b[0m\u001b[1;33m\u001b[0m\u001b[0m\n\u001b[0;32m-> 2050\u001b[0;31m                 \u001b[0mnew_axis\u001b[0m \u001b[1;33m=\u001b[0m \u001b[0maxis\u001b[0m\u001b[1;33m.\u001b[0m\u001b[0mdrop\u001b[0m\u001b[1;33m(\u001b[0m\u001b[0mlabels\u001b[0m\u001b[1;33m,\u001b[0m \u001b[0merrors\u001b[0m\u001b[1;33m=\u001b[0m\u001b[0merrors\u001b[0m\u001b[1;33m)\u001b[0m\u001b[1;33m\u001b[0m\u001b[0m\n\u001b[0m\u001b[1;32m   2051\u001b[0m             \u001b[0mdropped\u001b[0m \u001b[1;33m=\u001b[0m \u001b[0mself\u001b[0m\u001b[1;33m.\u001b[0m\u001b[0mreindex\u001b[0m\u001b[1;33m(\u001b[0m\u001b[1;33m**\u001b[0m\u001b[1;33m{\u001b[0m\u001b[0maxis_name\u001b[0m\u001b[1;33m:\u001b[0m \u001b[0mnew_axis\u001b[0m\u001b[1;33m}\u001b[0m\u001b[1;33m)\u001b[0m\u001b[1;33m\u001b[0m\u001b[0m\n\u001b[1;32m   2052\u001b[0m             \u001b[1;32mtry\u001b[0m\u001b[1;33m:\u001b[0m\u001b[1;33m\u001b[0m\u001b[0m\n",
      "\u001b[0;32mC:\\Users\\Administrator\\AppData\\Roaming\\Python\\Python35\\site-packages\\pandas\\core\\indexes\\base.py\u001b[0m in \u001b[0;36mdrop\u001b[0;34m(self, labels, errors)\u001b[0m\n\u001b[1;32m   3573\u001b[0m             \u001b[1;32mif\u001b[0m \u001b[0merrors\u001b[0m \u001b[1;33m!=\u001b[0m \u001b[1;34m'ignore'\u001b[0m\u001b[1;33m:\u001b[0m\u001b[1;33m\u001b[0m\u001b[0m\n\u001b[1;32m   3574\u001b[0m                 raise ValueError('labels %s not contained in axis' %\n\u001b[0;32m-> 3575\u001b[0;31m                                  labels[mask])\n\u001b[0m\u001b[1;32m   3576\u001b[0m             \u001b[0mindexer\u001b[0m \u001b[1;33m=\u001b[0m \u001b[0mindexer\u001b[0m\u001b[1;33m[\u001b[0m\u001b[1;33m~\u001b[0m\u001b[0mmask\u001b[0m\u001b[1;33m]\u001b[0m\u001b[1;33m\u001b[0m\u001b[0m\n\u001b[1;32m   3577\u001b[0m         \u001b[1;32mreturn\u001b[0m \u001b[0mself\u001b[0m\u001b[1;33m.\u001b[0m\u001b[0mdelete\u001b[0m\u001b[1;33m(\u001b[0m\u001b[0mindexer\u001b[0m\u001b[1;33m)\u001b[0m\u001b[1;33m\u001b[0m\u001b[0m\n",
      "\u001b[0;31mValueError\u001b[0m: labels ['sub_area'] not contained in axis"
     ]
    }
   ],
   "source": [
    "test_df.drop(\"sub_area\", axis=1, inplace=True)"
   ]
  },
  {
   "cell_type": "code",
   "execution_count": 51,
   "metadata": {
    "collapsed": true
   },
   "outputs": [],
   "source": [
    "num_boost_rounds = 489"
   ]
  },
  {
   "cell_type": "code",
   "execution_count": 52,
   "metadata": {
    "collapsed": false
   },
   "outputs": [],
   "source": [
    "xgb_params = {\n",
    "    'eta': 0.05,\n",
    "    'max_depth': 5,\n",
    "    'subsample': 0.7,\n",
    "    'colsample_bytree': 0.7,\n",
    "    'objective': 'reg:linear',\n",
    "    'eval_metric': 'rmse',\n",
    "    'silent': 1\n",
    "}\n",
    "\n",
    "dtrain = xgb.DMatrix(train_df, y_train)\n",
    "dtest = xgb.DMatrix(test_df)"
   ]
  },
  {
   "cell_type": "code",
   "execution_count": 53,
   "metadata": {
    "collapsed": true
   },
   "outputs": [],
   "source": [
    "model = xgb.train(dict(xgb_params, silent=0), dtrain, num_boost_round= num_boost_rounds)"
   ]
  },
  {
   "cell_type": "code",
   "execution_count": 58,
   "metadata": {
    "collapsed": false
   },
   "outputs": [],
   "source": [
    "y_predict = model.predict(dtest)\n",
    "output = pd.DataFrame({'id': id_test, 'price_doc': y_predict})"
   ]
  },
  {
   "cell_type": "code",
   "execution_count": 59,
   "metadata": {
    "collapsed": false
   },
   "outputs": [
    {
     "data": {
      "text/html": [
       "<div>\n",
       "<style>\n",
       "    .dataframe thead tr:only-child th {\n",
       "        text-align: right;\n",
       "    }\n",
       "\n",
       "    .dataframe thead th {\n",
       "        text-align: left;\n",
       "    }\n",
       "\n",
       "    .dataframe tbody tr th {\n",
       "        vertical-align: top;\n",
       "    }\n",
       "</style>\n",
       "<table border=\"1\" class=\"dataframe\">\n",
       "  <thead>\n",
       "    <tr style=\"text-align: right;\">\n",
       "      <th></th>\n",
       "      <th>id</th>\n",
       "      <th>price_doc</th>\n",
       "    </tr>\n",
       "  </thead>\n",
       "  <tbody>\n",
       "    <tr>\n",
       "      <th>0</th>\n",
       "      <td>30474</td>\n",
       "      <td>5647447.5</td>\n",
       "    </tr>\n",
       "    <tr>\n",
       "      <th>1</th>\n",
       "      <td>30475</td>\n",
       "      <td>8186291.0</td>\n",
       "    </tr>\n",
       "    <tr>\n",
       "      <th>2</th>\n",
       "      <td>30476</td>\n",
       "      <td>5522518.5</td>\n",
       "    </tr>\n",
       "    <tr>\n",
       "      <th>3</th>\n",
       "      <td>30477</td>\n",
       "      <td>5822495.5</td>\n",
       "    </tr>\n",
       "    <tr>\n",
       "      <th>4</th>\n",
       "      <td>30478</td>\n",
       "      <td>5207038.5</td>\n",
       "    </tr>\n",
       "  </tbody>\n",
       "</table>\n",
       "</div>"
      ],
      "text/plain": [
       "      id  price_doc\n",
       "0  30474  5647447.5\n",
       "1  30475  8186291.0\n",
       "2  30476  5522518.5\n",
       "3  30477  5822495.5\n",
       "4  30478  5207038.5"
      ]
     },
     "execution_count": 59,
     "metadata": {},
     "output_type": "execute_result"
    }
   ],
   "source": [
    "output.head()"
   ]
  },
  {
   "cell_type": "code",
   "execution_count": 60,
   "metadata": {
    "collapsed": true
   },
   "outputs": [],
   "source": [
    "output.to_csv('TryAgain7.csv', index=False)"
   ]
  }
 ],
 "metadata": {
  "anaconda-cloud": {},
  "kernelspec": {
   "display_name": "Python [default]",
   "language": "python",
   "name": "python3"
  },
  "language_info": {
   "codemirror_mode": {
    "name": "ipython",
    "version": 3
   },
   "file_extension": ".py",
   "mimetype": "text/x-python",
   "name": "python",
   "nbconvert_exporter": "python",
   "pygments_lexer": "ipython3",
   "version": "3.5.2"
  }
 },
 "nbformat": 4,
 "nbformat_minor": 1
}
