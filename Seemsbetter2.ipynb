{
 "cells": [
  {
   "cell_type": "code",
   "execution_count": 1,
   "metadata": {
    "collapsed": false,
    "scrolled": true
   },
   "outputs": [
    {
     "name": "stderr",
     "output_type": "stream",
     "text": [
      "C:\\Users\\Administrator\\Anaconda3\\lib\\site-packages\\sklearn\\cross_validation.py:44: DeprecationWarning: This module was deprecated in version 0.18 in favor of the model_selection module into which all the refactored classes and functions are moved. Also note that the interface of the new CV iterators are different from that of this module. This module will be removed in 0.20.\n",
      "  \"This module will be removed in 0.20.\", DeprecationWarning)\n"
     ]
    }
   ],
   "source": [
    "import numpy as np\n",
    "import pandas as pd\n",
    "import xgboost as xgb\n",
    "from sklearn import model_selection, preprocessing"
   ]
  },
  {
   "cell_type": "code",
   "execution_count": 3,
   "metadata": {
    "collapsed": false
   },
   "outputs": [],
   "source": [
    "train_df = pd.read_csv(\"./train.csv\")\n",
    "test_df = pd.read_csv(\"./test.csv\")\n",
    "fx = pd.read_excel('./BAD_ADDRESS_FIX.xlsx').drop_duplicates('id').set_index('id')\n",
    "train_df.update(fx)\n",
    "test_df.update(fx)"
   ]
  },
  {
   "cell_type": "code",
   "execution_count": 4,
   "metadata": {
    "collapsed": true
   },
   "outputs": [],
   "source": [
    "train_df[\"datetime\"] = pd.to_datetime(train_df[\"timestamp\"])\n",
    "train_df[\"year\"] = train_df[\"datetime\"].dt.year\n",
    "train_df[\"month\"] = train_df[\"datetime\"].dt.month\n",
    "train_df[\"day\"] = train_df[\"datetime\"].dt.day"
   ]
  },
  {
   "cell_type": "code",
   "execution_count": 5,
   "metadata": {
    "collapsed": true
   },
   "outputs": [],
   "source": [
    "temp = train_df['build_year'].copy()\n",
    "temp[train_df[\"build_year\"] > 1000] = train_df[\"year\"][train_df[\"build_year\"] > 1000] - train_df[\"build_year\"][train_df[\"build_year\"] > 1000]\n",
    "train_df[\"build_year\"] = temp"
   ]
  },
  {
   "cell_type": "code",
   "execution_count": 6,
   "metadata": {
    "collapsed": false
   },
   "outputs": [],
   "source": [
    "pt = pd.get_dummies(train_df[\"product_type\"])"
   ]
  },
  {
   "cell_type": "code",
   "execution_count": 7,
   "metadata": {
    "collapsed": false
   },
   "outputs": [],
   "source": [
    "train_df = pd.concat([train_df, pt],axis=1)"
   ]
  },
  {
   "cell_type": "code",
   "execution_count": 8,
   "metadata": {
    "collapsed": true
   },
   "outputs": [],
   "source": [
    "test_df[\"datetime\"] = pd.to_datetime(test_df[\"timestamp\"])\n",
    "test_df[\"year\"] = test_df[\"datetime\"].dt.year\n",
    "test_df[\"month\"] = test_df[\"datetime\"].dt.month\n",
    "test_df[\"day\"] = test_df[\"datetime\"].dt.day\n",
    "temp2 = test_df['build_year'].copy()\n",
    "temp2[test_df[\"build_year\"] > 1000] = test_df[\"year\"][test_df[\"build_year\"] > 1000] - test_df[\"build_year\"][test_df[\"build_year\"] > 1000]\n",
    "test_df[\"build_year\"] = temp2"
   ]
  },
  {
   "cell_type": "code",
   "execution_count": null,
   "metadata": {
    "collapsed": true
   },
   "outputs": [],
   "source": []
  },
  {
   "cell_type": "code",
   "execution_count": 9,
   "metadata": {
    "collapsed": true
   },
   "outputs": [],
   "source": [
    "pt = pd.get_dummies(test_df[\"product_type\"])\n",
    "test_df = pd.concat([test_df, pt],axis=1)"
   ]
  },
  {
   "cell_type": "code",
   "execution_count": 10,
   "metadata": {
    "collapsed": true
   },
   "outputs": [],
   "source": [
    "train_df = train_df.replace({\"no\": 0, \"yes\": 1})\n",
    "test_df = test_df.replace({\"no\": 0, \"yes\": 1})"
   ]
  },
  {
   "cell_type": "code",
   "execution_count": 11,
   "metadata": {
    "collapsed": true
   },
   "outputs": [],
   "source": [
    "inplace1 = (train_df[\"full_sq\"] < train_df[\"life_sq\"]) & (train_df[\"full_sq\"] < 10)\n",
    "temp3 = train_df[\"full_sq\"].copy()\n",
    "temp3[inplace1] = train_df[\"life_sq\"][inplace1]\n",
    "train_df[\"full_sq\"] = temp3"
   ]
  },
  {
   "cell_type": "code",
   "execution_count": 12,
   "metadata": {
    "collapsed": true
   },
   "outputs": [],
   "source": [
    "inplace2 = train_df[\"life_sq\"] < 2\n",
    "temp4 = train_df[\"life_sq\"].copy()\n",
    "temp4[inplace2] = train_df[\"full_sq\"][inplace2]\n",
    "train_df[\"life_sq\"] = temp4"
   ]
  },
  {
   "cell_type": "code",
   "execution_count": 13,
   "metadata": {
    "collapsed": true
   },
   "outputs": [],
   "source": [
    "inplace3 = (train_df[\"full_sq\"] < train_df[\"life_sq\"]) & (train_df[\"life_sq\"] > 10)\n",
    "temp5 = train_df[\"life_sq\"].copy()\n",
    "temp5[inplace3] = train_df[\"full_sq\"][inplace3]\n",
    "train_df[\"life_sq\"] = temp5"
   ]
  },
  {
   "cell_type": "code",
   "execution_count": 14,
   "metadata": {
    "collapsed": true
   },
   "outputs": [],
   "source": [
    "inplace1 = (test_df[\"full_sq\"] < test_df[\"life_sq\"]) & (test_df[\"full_sq\"] < 10)\n",
    "temp3 = test_df[\"full_sq\"].copy()\n",
    "temp3[inplace1] = test_df[\"life_sq\"][inplace1]\n",
    "test_df[\"full_sq\"] = temp3\n",
    "inplace2 = test_df[\"life_sq\"] < 2\n",
    "temp4 = test_df[\"life_sq\"].copy()\n",
    "temp4[inplace2] = test_df[\"full_sq\"][inplace2]\n",
    "test_df[\"life_sq\"] = temp4\n",
    "inplace3 = (test_df[\"full_sq\"] < test_df[\"life_sq\"]) & (test_df[\"life_sq\"] > 10)\n",
    "temp5 = test_df[\"life_sq\"].copy()\n",
    "temp5[inplace3] = test_df[\"full_sq\"][inplace3]\n",
    "test_df[\"life_sq\"] = temp5"
   ]
  },
  {
   "cell_type": "code",
   "execution_count": 15,
   "metadata": {
    "collapsed": true
   },
   "outputs": [],
   "source": [
    "ma = pd.read_csv(\"./macro.csv\")"
   ]
  },
  {
   "cell_type": "code",
   "execution_count": 16,
   "metadata": {
    "collapsed": false
   },
   "outputs": [],
   "source": [
    "ma_chosen = ma[[\"timestamp\",\"gdp_quart\", \"gdp_quart_growth\", \"cpi\", \"ppi\", \"oil_urals\"]]"
   ]
  },
  {
   "cell_type": "code",
   "execution_count": 17,
   "metadata": {
    "collapsed": false
   },
   "outputs": [
    {
     "name": "stderr",
     "output_type": "stream",
     "text": [
      "C:\\Users\\Administrator\\Anaconda3\\lib\\site-packages\\ipykernel\\__main__.py:1: SettingWithCopyWarning: \n",
      "A value is trying to be set on a copy of a slice from a DataFrame.\n",
      "Try using .loc[row_indexer,col_indexer] = value instead\n",
      "\n",
      "See the caveats in the documentation: http://pandas.pydata.org/pandas-docs/stable/indexing.html#indexing-view-versus-copy\n",
      "  if __name__ == '__main__':\n"
     ]
    }
   ],
   "source": [
    "ma_chosen[\"datetime\"] = pd.to_datetime(ma[\"timestamp\"])"
   ]
  },
  {
   "cell_type": "code",
   "execution_count": 18,
   "metadata": {
    "collapsed": false
   },
   "outputs": [
    {
     "name": "stderr",
     "output_type": "stream",
     "text": [
      "C:\\Users\\Administrator\\Anaconda3\\lib\\site-packages\\ipykernel\\__main__.py:1: SettingWithCopyWarning: \n",
      "A value is trying to be set on a copy of a slice from a DataFrame\n",
      "\n",
      "See the caveats in the documentation: http://pandas.pydata.org/pandas-docs/stable/indexing.html#indexing-view-versus-copy\n",
      "  if __name__ == '__main__':\n"
     ]
    }
   ],
   "source": [
    "ma_chosen.drop(['timestamp'], axis=1, inplace=True)"
   ]
  },
  {
   "cell_type": "code",
   "execution_count": 19,
   "metadata": {
    "collapsed": true
   },
   "outputs": [],
   "source": [
    "train_df = pd.merge(train_df, ma_chosen, how='left', on='datetime')\n",
    "test_df = pd.merge(test_df, ma_chosen, how='left', on='datetime')"
   ]
  },
  {
   "cell_type": "code",
   "execution_count": 20,
   "metadata": {
    "collapsed": false
   },
   "outputs": [],
   "source": [
    "train_df[\"build_age\"] = train_df[\"year\"] - train_df[\"build_year\"]\n",
    "test_df[\"build_age\"] = test_df[\"year\"] - test_df[\"build_year\"]\n",
    "train_df[\"life_full_ratio\"] = train_df[\"life_sq\"] / train_df[\"full_sq\"]\n",
    "test_df[\"life_full_ratio\"] = test_df[\"life_sq\"] / test_df[\"full_sq\"]\n",
    "train_df[\"floor_position\"] = train_df[\"floor\"] / train_df[\"max_floor\"]\n",
    "test_df[\"floor_position\"] = test_df[\"floor\"] / test_df[\"max_floor\"]"
   ]
  },
  {
   "cell_type": "code",
   "execution_count": 21,
   "metadata": {
    "collapsed": true
   },
   "outputs": [],
   "source": [
    "y_train = train_df['price_doc'].values\n",
    "id_test = test_df['id']\n",
    "train_df.drop(['timestamp'], axis=1, inplace=True)\n",
    "test_df.drop(['timestamp'], axis=1, inplace=True)\n",
    "train_df.drop(['datetime'], axis=1, inplace=True)\n",
    "test_df.drop(['datetime'], axis=1, inplace=True)"
   ]
  },
  {
   "cell_type": "code",
   "execution_count": 22,
   "metadata": {
    "collapsed": true
   },
   "outputs": [],
   "source": [
    "train_eco = pd.get_dummies(train_df[\"ecology\"])\n",
    "train_df = pd.concat([train_df, train_eco],axis=1)"
   ]
  },
  {
   "cell_type": "code",
   "execution_count": 23,
   "metadata": {
    "collapsed": true
   },
   "outputs": [],
   "source": [
    "test_eco = pd.get_dummies(test_df[\"ecology\"])\n",
    "test_df = pd.concat([test_df, test_eco],axis=1)"
   ]
  },
  {
   "cell_type": "code",
   "execution_count": 24,
   "metadata": {
    "collapsed": true
   },
   "outputs": [],
   "source": [
    "train_df.drop(['product_type'], axis=1, inplace=True)\n",
    "test_df.drop(['product_type'], axis=1, inplace=True)\n",
    "train_df.drop(['ecology'], axis=1, inplace=True)\n",
    "test_df.drop(['ecology'], axis=1, inplace=True)"
   ]
  },
  {
   "cell_type": "code",
   "execution_count": 25,
   "metadata": {
    "collapsed": true
   },
   "outputs": [],
   "source": [
    "train_df.drop(\"id\", axis=1, inplace=True)\n",
    "train_df.drop(\"price_doc\", axis=1, inplace=True)\n",
    "train_df.drop(\"sub_area\", axis=1, inplace=True)\n",
    "test_df.drop(\"id\", axis=1, inplace=True)\n",
    "test_df.drop(\"sub_area\", axis=1, inplace=True)"
   ]
  },
  {
   "cell_type": "code",
   "execution_count": 25,
   "metadata": {
    "collapsed": false
   },
   "outputs": [
    {
     "data": {
      "text/plain": [
       "(30471, 304)"
      ]
     },
     "execution_count": 25,
     "metadata": {},
     "output_type": "execute_result"
    }
   ],
   "source": [
    "train_df.shape"
   ]
  },
  {
   "cell_type": "code",
   "execution_count": 26,
   "metadata": {
    "collapsed": false
   },
   "outputs": [
    {
     "data": {
      "text/plain": [
       "(7662, 304)"
      ]
     },
     "execution_count": 26,
     "metadata": {},
     "output_type": "execute_result"
    }
   ],
   "source": [
    "test_df.shape"
   ]
  },
  {
   "cell_type": "code",
   "execution_count": 26,
   "metadata": {
    "collapsed": false
   },
   "outputs": [],
   "source": [
    "dtrain = xgb.DMatrix(train_df.values, y_train)"
   ]
  },
  {
   "cell_type": "code",
   "execution_count": 27,
   "metadata": {
    "collapsed": false
   },
   "outputs": [],
   "source": [
    "xgb_params = {\n",
    "    'eta': 0.05,\n",
    "    'max_depth': 4,\n",
    "    'subsample': 0.7,\n",
    "    'colsample_bytree': 0.7,\n",
    "    'objective': 'reg:linear',\n",
    "    'eval_metric': 'rmse',\n",
    "    'min_child_weight':1,\n",
    "    'silent': 1,\n",
    "    }\n",
    "    "
   ]
  },
  {
   "cell_type": "code",
   "execution_count": 28,
   "metadata": {
    "collapsed": false
   },
   "outputs": [
    {
     "name": "stdout",
     "output_type": "stream",
     "text": [
      "[0]\ttrain-rmse:8.23111e+06\ttest-rmse:8.23282e+06\n",
      "[20]\ttrain-rmse:4.10055e+06\ttest-rmse:4.18413e+06\n",
      "[40]\ttrain-rmse:2.97671e+06\ttest-rmse:3.15725e+06\n",
      "[60]\ttrain-rmse:2.6602e+06\ttest-rmse:2.91738e+06\n",
      "[80]\ttrain-rmse:2.52799e+06\ttest-rmse:2.83891e+06\n",
      "[100]\ttrain-rmse:2.45234e+06\ttest-rmse:2.80092e+06\n",
      "[120]\ttrain-rmse:2.39082e+06\ttest-rmse:2.7736e+06\n",
      "[140]\ttrain-rmse:2.34251e+06\ttest-rmse:2.75629e+06\n",
      "[160]\ttrain-rmse:2.30262e+06\ttest-rmse:2.74126e+06\n",
      "[180]\ttrain-rmse:2.26647e+06\ttest-rmse:2.7301e+06\n",
      "[200]\ttrain-rmse:2.23555e+06\ttest-rmse:2.72172e+06\n",
      "[220]\ttrain-rmse:2.20588e+06\ttest-rmse:2.71128e+06\n",
      "[240]\ttrain-rmse:2.18119e+06\ttest-rmse:2.70518e+06\n",
      "[260]\ttrain-rmse:2.15756e+06\ttest-rmse:2.69999e+06\n",
      "[280]\ttrain-rmse:2.1352e+06\ttest-rmse:2.69207e+06\n",
      "[300]\ttrain-rmse:2.11561e+06\ttest-rmse:2.68755e+06\n",
      "[320]\ttrain-rmse:2.09446e+06\ttest-rmse:2.68368e+06\n",
      "[340]\ttrain-rmse:2.07583e+06\ttest-rmse:2.67966e+06\n",
      "[360]\ttrain-rmse:2.05713e+06\ttest-rmse:2.67662e+06\n",
      "[380]\ttrain-rmse:2.03957e+06\ttest-rmse:2.67435e+06\n",
      "[400]\ttrain-rmse:2.02267e+06\ttest-rmse:2.67131e+06\n",
      "[420]\ttrain-rmse:2.00574e+06\ttest-rmse:2.66906e+06\n",
      "[440]\ttrain-rmse:1.99053e+06\ttest-rmse:2.66631e+06\n",
      "[460]\ttrain-rmse:1.97552e+06\ttest-rmse:2.66451e+06\n",
      "[480]\ttrain-rmse:1.96148e+06\ttest-rmse:2.66274e+06\n",
      "[500]\ttrain-rmse:1.94702e+06\ttest-rmse:2.66254e+06\n"
     ]
    },
    {
     "data": {
      "text/html": [
       "<div>\n",
       "<style>\n",
       "    .dataframe thead tr:only-child th {\n",
       "        text-align: right;\n",
       "    }\n",
       "\n",
       "    .dataframe thead th {\n",
       "        text-align: left;\n",
       "    }\n",
       "\n",
       "    .dataframe tbody tr th {\n",
       "        vertical-align: top;\n",
       "    }\n",
       "</style>\n",
       "<table border=\"1\" class=\"dataframe\">\n",
       "  <thead>\n",
       "    <tr style=\"text-align: right;\">\n",
       "      <th></th>\n",
       "      <th>test-rmse-mean</th>\n",
       "      <th>test-rmse-std</th>\n",
       "      <th>train-rmse-mean</th>\n",
       "      <th>train-rmse-std</th>\n",
       "    </tr>\n",
       "  </thead>\n",
       "  <tbody>\n",
       "    <tr>\n",
       "      <th>0</th>\n",
       "      <td>8232822.00</td>\n",
       "      <td>140230.541212</td>\n",
       "      <td>8231106.100</td>\n",
       "      <td>34308.904507</td>\n",
       "    </tr>\n",
       "    <tr>\n",
       "      <th>1</th>\n",
       "      <td>7896753.50</td>\n",
       "      <td>135214.496032</td>\n",
       "      <td>7892679.400</td>\n",
       "      <td>41998.278933</td>\n",
       "    </tr>\n",
       "    <tr>\n",
       "      <th>2</th>\n",
       "      <td>7579428.20</td>\n",
       "      <td>136042.132458</td>\n",
       "      <td>7573895.400</td>\n",
       "      <td>46208.130099</td>\n",
       "    </tr>\n",
       "    <tr>\n",
       "      <th>3</th>\n",
       "      <td>7278498.30</td>\n",
       "      <td>136247.488951</td>\n",
       "      <td>7269881.800</td>\n",
       "      <td>47738.738338</td>\n",
       "    </tr>\n",
       "    <tr>\n",
       "      <th>4</th>\n",
       "      <td>6987265.60</td>\n",
       "      <td>137527.604000</td>\n",
       "      <td>6976358.800</td>\n",
       "      <td>45976.487964</td>\n",
       "    </tr>\n",
       "    <tr>\n",
       "      <th>5</th>\n",
       "      <td>6714799.40</td>\n",
       "      <td>140280.112602</td>\n",
       "      <td>6700219.600</td>\n",
       "      <td>44550.012954</td>\n",
       "    </tr>\n",
       "    <tr>\n",
       "      <th>6</th>\n",
       "      <td>6459857.20</td>\n",
       "      <td>147453.926840</td>\n",
       "      <td>6441043.900</td>\n",
       "      <td>40276.323976</td>\n",
       "    </tr>\n",
       "    <tr>\n",
       "      <th>7</th>\n",
       "      <td>6220638.20</td>\n",
       "      <td>149661.019330</td>\n",
       "      <td>6199446.400</td>\n",
       "      <td>41443.260776</td>\n",
       "    </tr>\n",
       "    <tr>\n",
       "      <th>8</th>\n",
       "      <td>5995006.00</td>\n",
       "      <td>156446.371852</td>\n",
       "      <td>5968811.200</td>\n",
       "      <td>35995.074753</td>\n",
       "    </tr>\n",
       "    <tr>\n",
       "      <th>9</th>\n",
       "      <td>5786114.00</td>\n",
       "      <td>156378.529069</td>\n",
       "      <td>5756617.700</td>\n",
       "      <td>39665.725742</td>\n",
       "    </tr>\n",
       "    <tr>\n",
       "      <th>10</th>\n",
       "      <td>5592572.40</td>\n",
       "      <td>159830.280652</td>\n",
       "      <td>5559686.400</td>\n",
       "      <td>39644.980352</td>\n",
       "    </tr>\n",
       "    <tr>\n",
       "      <th>11</th>\n",
       "      <td>5403642.40</td>\n",
       "      <td>157707.355178</td>\n",
       "      <td>5367706.500</td>\n",
       "      <td>42702.425807</td>\n",
       "    </tr>\n",
       "    <tr>\n",
       "      <th>12</th>\n",
       "      <td>5228731.60</td>\n",
       "      <td>158403.368860</td>\n",
       "      <td>5188045.500</td>\n",
       "      <td>42363.229668</td>\n",
       "    </tr>\n",
       "    <tr>\n",
       "      <th>13</th>\n",
       "      <td>5069570.00</td>\n",
       "      <td>162039.528992</td>\n",
       "      <td>5023901.200</td>\n",
       "      <td>42529.635754</td>\n",
       "    </tr>\n",
       "    <tr>\n",
       "      <th>14</th>\n",
       "      <td>4915056.30</td>\n",
       "      <td>165095.013734</td>\n",
       "      <td>4863278.100</td>\n",
       "      <td>41588.332084</td>\n",
       "    </tr>\n",
       "    <tr>\n",
       "      <th>15</th>\n",
       "      <td>4769498.20</td>\n",
       "      <td>164969.777966</td>\n",
       "      <td>4714531.900</td>\n",
       "      <td>42613.023439</td>\n",
       "    </tr>\n",
       "    <tr>\n",
       "      <th>16</th>\n",
       "      <td>4634700.90</td>\n",
       "      <td>163756.173712</td>\n",
       "      <td>4574521.800</td>\n",
       "      <td>44986.640700</td>\n",
       "    </tr>\n",
       "    <tr>\n",
       "      <th>17</th>\n",
       "      <td>4506016.40</td>\n",
       "      <td>163024.813977</td>\n",
       "      <td>4441751.900</td>\n",
       "      <td>45451.542718</td>\n",
       "    </tr>\n",
       "    <tr>\n",
       "      <th>18</th>\n",
       "      <td>4392593.30</td>\n",
       "      <td>164880.167601</td>\n",
       "      <td>4321944.600</td>\n",
       "      <td>43822.970882</td>\n",
       "    </tr>\n",
       "    <tr>\n",
       "      <th>19</th>\n",
       "      <td>4285199.60</td>\n",
       "      <td>165583.320055</td>\n",
       "      <td>4207683.300</td>\n",
       "      <td>45657.488438</td>\n",
       "    </tr>\n",
       "    <tr>\n",
       "      <th>20</th>\n",
       "      <td>4184130.25</td>\n",
       "      <td>171895.469076</td>\n",
       "      <td>4100545.950</td>\n",
       "      <td>41279.373562</td>\n",
       "    </tr>\n",
       "    <tr>\n",
       "      <th>21</th>\n",
       "      <td>4090338.55</td>\n",
       "      <td>176673.940429</td>\n",
       "      <td>4002055.600</td>\n",
       "      <td>38365.545853</td>\n",
       "    </tr>\n",
       "    <tr>\n",
       "      <th>22</th>\n",
       "      <td>4003377.15</td>\n",
       "      <td>176219.508511</td>\n",
       "      <td>3910859.500</td>\n",
       "      <td>40331.744647</td>\n",
       "    </tr>\n",
       "    <tr>\n",
       "      <th>23</th>\n",
       "      <td>3923585.55</td>\n",
       "      <td>179476.824587</td>\n",
       "      <td>3824261.350</td>\n",
       "      <td>39419.276135</td>\n",
       "    </tr>\n",
       "    <tr>\n",
       "      <th>24</th>\n",
       "      <td>3844491.10</td>\n",
       "      <td>185667.805987</td>\n",
       "      <td>3742050.100</td>\n",
       "      <td>37570.518750</td>\n",
       "    </tr>\n",
       "    <tr>\n",
       "      <th>25</th>\n",
       "      <td>3774764.15</td>\n",
       "      <td>183991.577499</td>\n",
       "      <td>3666964.850</td>\n",
       "      <td>39315.449835</td>\n",
       "    </tr>\n",
       "    <tr>\n",
       "      <th>26</th>\n",
       "      <td>3710883.95</td>\n",
       "      <td>181769.327283</td>\n",
       "      <td>3597313.800</td>\n",
       "      <td>41960.179954</td>\n",
       "    </tr>\n",
       "    <tr>\n",
       "      <th>27</th>\n",
       "      <td>3650391.10</td>\n",
       "      <td>185743.569386</td>\n",
       "      <td>3529638.550</td>\n",
       "      <td>39944.438832</td>\n",
       "    </tr>\n",
       "    <tr>\n",
       "      <th>28</th>\n",
       "      <td>3595253.65</td>\n",
       "      <td>187584.245357</td>\n",
       "      <td>3469567.950</td>\n",
       "      <td>38880.325632</td>\n",
       "    </tr>\n",
       "    <tr>\n",
       "      <th>29</th>\n",
       "      <td>3540752.40</td>\n",
       "      <td>188673.775012</td>\n",
       "      <td>3410205.850</td>\n",
       "      <td>38877.932060</td>\n",
       "    </tr>\n",
       "    <tr>\n",
       "      <th>...</th>\n",
       "      <td>...</td>\n",
       "      <td>...</td>\n",
       "      <td>...</td>\n",
       "      <td>...</td>\n",
       "    </tr>\n",
       "    <tr>\n",
       "      <th>467</th>\n",
       "      <td>2663233.85</td>\n",
       "      <td>172070.818699</td>\n",
       "      <td>1970344.675</td>\n",
       "      <td>15959.790520</td>\n",
       "    </tr>\n",
       "    <tr>\n",
       "      <th>468</th>\n",
       "      <td>2663236.35</td>\n",
       "      <td>172061.579926</td>\n",
       "      <td>1969449.150</td>\n",
       "      <td>15859.711504</td>\n",
       "    </tr>\n",
       "    <tr>\n",
       "      <th>469</th>\n",
       "      <td>2663194.95</td>\n",
       "      <td>172143.027115</td>\n",
       "      <td>1968654.825</td>\n",
       "      <td>15728.525806</td>\n",
       "    </tr>\n",
       "    <tr>\n",
       "      <th>470</th>\n",
       "      <td>2663178.10</td>\n",
       "      <td>172427.220142</td>\n",
       "      <td>1968127.200</td>\n",
       "      <td>15795.901701</td>\n",
       "    </tr>\n",
       "    <tr>\n",
       "      <th>471</th>\n",
       "      <td>2663468.40</td>\n",
       "      <td>172655.824766</td>\n",
       "      <td>1967485.975</td>\n",
       "      <td>15808.977122</td>\n",
       "    </tr>\n",
       "    <tr>\n",
       "      <th>472</th>\n",
       "      <td>2663454.15</td>\n",
       "      <td>172527.143677</td>\n",
       "      <td>1966876.275</td>\n",
       "      <td>15687.772905</td>\n",
       "    </tr>\n",
       "    <tr>\n",
       "      <th>473</th>\n",
       "      <td>2663374.70</td>\n",
       "      <td>172535.114132</td>\n",
       "      <td>1966275.975</td>\n",
       "      <td>15691.514091</td>\n",
       "    </tr>\n",
       "    <tr>\n",
       "      <th>474</th>\n",
       "      <td>2663151.30</td>\n",
       "      <td>172611.393653</td>\n",
       "      <td>1965660.650</td>\n",
       "      <td>15790.006609</td>\n",
       "    </tr>\n",
       "    <tr>\n",
       "      <th>475</th>\n",
       "      <td>2662936.15</td>\n",
       "      <td>172471.992953</td>\n",
       "      <td>1964835.525</td>\n",
       "      <td>16013.338876</td>\n",
       "    </tr>\n",
       "    <tr>\n",
       "      <th>476</th>\n",
       "      <td>2662901.60</td>\n",
       "      <td>172530.809994</td>\n",
       "      <td>1964373.975</td>\n",
       "      <td>16105.255408</td>\n",
       "    </tr>\n",
       "    <tr>\n",
       "      <th>477</th>\n",
       "      <td>2662540.60</td>\n",
       "      <td>172532.179908</td>\n",
       "      <td>1963434.575</td>\n",
       "      <td>16025.296009</td>\n",
       "    </tr>\n",
       "    <tr>\n",
       "      <th>478</th>\n",
       "      <td>2662533.65</td>\n",
       "      <td>172506.165928</td>\n",
       "      <td>1962785.275</td>\n",
       "      <td>16166.892072</td>\n",
       "    </tr>\n",
       "    <tr>\n",
       "      <th>479</th>\n",
       "      <td>2662417.10</td>\n",
       "      <td>172382.528808</td>\n",
       "      <td>1962176.075</td>\n",
       "      <td>16202.687069</td>\n",
       "    </tr>\n",
       "    <tr>\n",
       "      <th>480</th>\n",
       "      <td>2662741.55</td>\n",
       "      <td>172338.614865</td>\n",
       "      <td>1961478.575</td>\n",
       "      <td>16171.675646</td>\n",
       "    </tr>\n",
       "    <tr>\n",
       "      <th>481</th>\n",
       "      <td>2662782.55</td>\n",
       "      <td>172405.197371</td>\n",
       "      <td>1960711.225</td>\n",
       "      <td>16014.593723</td>\n",
       "    </tr>\n",
       "    <tr>\n",
       "      <th>482</th>\n",
       "      <td>2663130.45</td>\n",
       "      <td>172338.180515</td>\n",
       "      <td>1959898.700</td>\n",
       "      <td>15976.634720</td>\n",
       "    </tr>\n",
       "    <tr>\n",
       "      <th>483</th>\n",
       "      <td>2663095.85</td>\n",
       "      <td>172248.876453</td>\n",
       "      <td>1959045.550</td>\n",
       "      <td>16135.877997</td>\n",
       "    </tr>\n",
       "    <tr>\n",
       "      <th>484</th>\n",
       "      <td>2662930.50</td>\n",
       "      <td>172338.486405</td>\n",
       "      <td>1958517.725</td>\n",
       "      <td>16319.210703</td>\n",
       "    </tr>\n",
       "    <tr>\n",
       "      <th>485</th>\n",
       "      <td>2663061.90</td>\n",
       "      <td>172279.747471</td>\n",
       "      <td>1958046.875</td>\n",
       "      <td>16357.750148</td>\n",
       "    </tr>\n",
       "    <tr>\n",
       "      <th>486</th>\n",
       "      <td>2662830.50</td>\n",
       "      <td>172151.651993</td>\n",
       "      <td>1957094.925</td>\n",
       "      <td>16557.500653</td>\n",
       "    </tr>\n",
       "    <tr>\n",
       "      <th>487</th>\n",
       "      <td>2662784.35</td>\n",
       "      <td>172233.843463</td>\n",
       "      <td>1955849.575</td>\n",
       "      <td>16221.237533</td>\n",
       "    </tr>\n",
       "    <tr>\n",
       "      <th>488</th>\n",
       "      <td>2662846.70</td>\n",
       "      <td>172254.762655</td>\n",
       "      <td>1955314.175</td>\n",
       "      <td>16252.287064</td>\n",
       "    </tr>\n",
       "    <tr>\n",
       "      <th>489</th>\n",
       "      <td>2662777.35</td>\n",
       "      <td>172147.222562</td>\n",
       "      <td>1954122.600</td>\n",
       "      <td>16063.224969</td>\n",
       "    </tr>\n",
       "    <tr>\n",
       "      <th>490</th>\n",
       "      <td>2662498.75</td>\n",
       "      <td>172263.004889</td>\n",
       "      <td>1953508.400</td>\n",
       "      <td>16017.490047</td>\n",
       "    </tr>\n",
       "    <tr>\n",
       "      <th>491</th>\n",
       "      <td>2662592.45</td>\n",
       "      <td>172248.534677</td>\n",
       "      <td>1952984.700</td>\n",
       "      <td>16052.684379</td>\n",
       "    </tr>\n",
       "    <tr>\n",
       "      <th>492</th>\n",
       "      <td>2662894.15</td>\n",
       "      <td>171949.321903</td>\n",
       "      <td>1952517.850</td>\n",
       "      <td>15929.345325</td>\n",
       "    </tr>\n",
       "    <tr>\n",
       "      <th>493</th>\n",
       "      <td>2662589.70</td>\n",
       "      <td>171807.365968</td>\n",
       "      <td>1951639.350</td>\n",
       "      <td>16104.417347</td>\n",
       "    </tr>\n",
       "    <tr>\n",
       "      <th>494</th>\n",
       "      <td>2662224.85</td>\n",
       "      <td>171847.653825</td>\n",
       "      <td>1950822.700</td>\n",
       "      <td>16053.720284</td>\n",
       "    </tr>\n",
       "    <tr>\n",
       "      <th>495</th>\n",
       "      <td>2662270.90</td>\n",
       "      <td>171892.248711</td>\n",
       "      <td>1950286.350</td>\n",
       "      <td>16117.820758</td>\n",
       "    </tr>\n",
       "    <tr>\n",
       "      <th>496</th>\n",
       "      <td>2662207.00</td>\n",
       "      <td>171858.767891</td>\n",
       "      <td>1949692.400</td>\n",
       "      <td>16111.238861</td>\n",
       "    </tr>\n",
       "  </tbody>\n",
       "</table>\n",
       "<p>497 rows × 4 columns</p>\n",
       "</div>"
      ],
      "text/plain": [
       "     test-rmse-mean  test-rmse-std  train-rmse-mean  train-rmse-std\n",
       "0        8232822.00  140230.541212      8231106.100    34308.904507\n",
       "1        7896753.50  135214.496032      7892679.400    41998.278933\n",
       "2        7579428.20  136042.132458      7573895.400    46208.130099\n",
       "3        7278498.30  136247.488951      7269881.800    47738.738338\n",
       "4        6987265.60  137527.604000      6976358.800    45976.487964\n",
       "5        6714799.40  140280.112602      6700219.600    44550.012954\n",
       "6        6459857.20  147453.926840      6441043.900    40276.323976\n",
       "7        6220638.20  149661.019330      6199446.400    41443.260776\n",
       "8        5995006.00  156446.371852      5968811.200    35995.074753\n",
       "9        5786114.00  156378.529069      5756617.700    39665.725742\n",
       "10       5592572.40  159830.280652      5559686.400    39644.980352\n",
       "11       5403642.40  157707.355178      5367706.500    42702.425807\n",
       "12       5228731.60  158403.368860      5188045.500    42363.229668\n",
       "13       5069570.00  162039.528992      5023901.200    42529.635754\n",
       "14       4915056.30  165095.013734      4863278.100    41588.332084\n",
       "15       4769498.20  164969.777966      4714531.900    42613.023439\n",
       "16       4634700.90  163756.173712      4574521.800    44986.640700\n",
       "17       4506016.40  163024.813977      4441751.900    45451.542718\n",
       "18       4392593.30  164880.167601      4321944.600    43822.970882\n",
       "19       4285199.60  165583.320055      4207683.300    45657.488438\n",
       "20       4184130.25  171895.469076      4100545.950    41279.373562\n",
       "21       4090338.55  176673.940429      4002055.600    38365.545853\n",
       "22       4003377.15  176219.508511      3910859.500    40331.744647\n",
       "23       3923585.55  179476.824587      3824261.350    39419.276135\n",
       "24       3844491.10  185667.805987      3742050.100    37570.518750\n",
       "25       3774764.15  183991.577499      3666964.850    39315.449835\n",
       "26       3710883.95  181769.327283      3597313.800    41960.179954\n",
       "27       3650391.10  185743.569386      3529638.550    39944.438832\n",
       "28       3595253.65  187584.245357      3469567.950    38880.325632\n",
       "29       3540752.40  188673.775012      3410205.850    38877.932060\n",
       "..              ...            ...              ...             ...\n",
       "467      2663233.85  172070.818699      1970344.675    15959.790520\n",
       "468      2663236.35  172061.579926      1969449.150    15859.711504\n",
       "469      2663194.95  172143.027115      1968654.825    15728.525806\n",
       "470      2663178.10  172427.220142      1968127.200    15795.901701\n",
       "471      2663468.40  172655.824766      1967485.975    15808.977122\n",
       "472      2663454.15  172527.143677      1966876.275    15687.772905\n",
       "473      2663374.70  172535.114132      1966275.975    15691.514091\n",
       "474      2663151.30  172611.393653      1965660.650    15790.006609\n",
       "475      2662936.15  172471.992953      1964835.525    16013.338876\n",
       "476      2662901.60  172530.809994      1964373.975    16105.255408\n",
       "477      2662540.60  172532.179908      1963434.575    16025.296009\n",
       "478      2662533.65  172506.165928      1962785.275    16166.892072\n",
       "479      2662417.10  172382.528808      1962176.075    16202.687069\n",
       "480      2662741.55  172338.614865      1961478.575    16171.675646\n",
       "481      2662782.55  172405.197371      1960711.225    16014.593723\n",
       "482      2663130.45  172338.180515      1959898.700    15976.634720\n",
       "483      2663095.85  172248.876453      1959045.550    16135.877997\n",
       "484      2662930.50  172338.486405      1958517.725    16319.210703\n",
       "485      2663061.90  172279.747471      1958046.875    16357.750148\n",
       "486      2662830.50  172151.651993      1957094.925    16557.500653\n",
       "487      2662784.35  172233.843463      1955849.575    16221.237533\n",
       "488      2662846.70  172254.762655      1955314.175    16252.287064\n",
       "489      2662777.35  172147.222562      1954122.600    16063.224969\n",
       "490      2662498.75  172263.004889      1953508.400    16017.490047\n",
       "491      2662592.45  172248.534677      1952984.700    16052.684379\n",
       "492      2662894.15  171949.321903      1952517.850    15929.345325\n",
       "493      2662589.70  171807.365968      1951639.350    16104.417347\n",
       "494      2662224.85  171847.653825      1950822.700    16053.720284\n",
       "495      2662270.90  171892.248711      1950286.350    16117.820758\n",
       "496      2662207.00  171858.767891      1949692.400    16111.238861\n",
       "\n",
       "[497 rows x 4 columns]"
      ]
     },
     "execution_count": 28,
     "metadata": {},
     "output_type": "execute_result"
    }
   ],
   "source": [
    "xgb.cv(xgb_params, dtrain, nfold=5, num_boost_round=1000, early_stopping_rounds=20,\n",
    "    verbose_eval=20, show_stdv=False)"
   ]
  },
  {
   "cell_type": "code",
   "execution_count": 29,
   "metadata": {
    "collapsed": false
   },
   "outputs": [],
   "source": [
    "model = xgb.train(dict(xgb_params, silent=0), dtrain, num_boost_round= 497)"
   ]
  },
  {
   "cell_type": "code",
   "execution_count": 30,
   "metadata": {
    "collapsed": true
   },
   "outputs": [],
   "source": [
    "dtest = xgb.DMatrix(test_df.values)"
   ]
  },
  {
   "cell_type": "code",
   "execution_count": 31,
   "metadata": {
    "collapsed": false
   },
   "outputs": [],
   "source": [
    "y_predict = model.predict(dtest)\n",
    "output = pd.DataFrame({'id': id_test, 'price_doc': y_predict})"
   ]
  },
  {
   "cell_type": "code",
   "execution_count": 32,
   "metadata": {
    "collapsed": false
   },
   "outputs": [
    {
     "data": {
      "text/plain": [
       "id           3.430450e+04\n",
       "price_doc    7.875476e+06\n",
       "dtype: float64"
      ]
     },
     "execution_count": 32,
     "metadata": {},
     "output_type": "execute_result"
    }
   ],
   "source": [
    "output.mean()"
   ]
  },
  {
   "cell_type": "code",
   "execution_count": 35,
   "metadata": {
    "collapsed": false
   },
   "outputs": [
    {
     "data": {
      "text/plain": [
       "id           3.430450e+04\n",
       "price_doc    7.872189e+06\n",
       "dtype: float64"
      ]
     },
     "execution_count": 35,
     "metadata": {},
     "output_type": "execute_result"
    }
   ],
   "source": [
    "output.mean()"
   ]
  },
  {
   "cell_type": "code",
   "execution_count": 33,
   "metadata": {
    "collapsed": true
   },
   "outputs": [],
   "source": [
    "output.to_csv('FinalFight3.csv', index=False)"
   ]
  },
  {
   "cell_type": "code",
   "execution_count": null,
   "metadata": {
    "collapsed": true
   },
   "outputs": [],
   "source": []
  }
 ],
 "metadata": {
  "anaconda-cloud": {},
  "kernelspec": {
   "display_name": "Python [default]",
   "language": "python",
   "name": "python3"
  },
  "language_info": {
   "codemirror_mode": {
    "name": "ipython",
    "version": 3
   },
   "file_extension": ".py",
   "mimetype": "text/x-python",
   "name": "python",
   "nbconvert_exporter": "python",
   "pygments_lexer": "ipython3",
   "version": "3.5.2"
  }
 },
 "nbformat": 4,
 "nbformat_minor": 1
}
