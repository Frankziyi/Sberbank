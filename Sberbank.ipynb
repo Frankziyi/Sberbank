{
 "cells": [
  {
   "cell_type": "code",
   "execution_count": 3,
   "metadata": {
    "collapsed": false,
    "scrolled": true
   },
   "outputs": [
    {
     "name": "stderr",
     "output_type": "stream",
     "text": [
      "C:\\Users\\Administrator\\Anaconda3\\lib\\site-packages\\sklearn\\cross_validation.py:44: DeprecationWarning: This module was deprecated in version 0.18 in favor of the model_selection module into which all the refactored classes and functions are moved. Also note that the interface of the new CV iterators are different from that of this module. This module will be removed in 0.20.\n",
      "  \"This module will be removed in 0.20.\", DeprecationWarning)\n"
     ]
    }
   ],
   "source": [
    "import os\n",
    "import sys\n",
    "import operator\n",
    "import numpy as np\n",
    "import pandas as pd\n",
    "from scipy import sparse\n",
    "import xgboost as xgb\n",
    "from sklearn import model_selection, preprocessing, ensemble\n",
    "from sklearn.metrics import log_loss\n",
    "from sklearn.feature_extraction.text import TfidfVectorizer, CountVectorizer"
   ]
  },
  {
   "cell_type": "code",
   "execution_count": 4,
   "metadata": {
    "collapsed": true
   },
   "outputs": [],
   "source": [
    "import matplotlib.pyplot as plt\n",
    "import seaborn as sns\n",
    "color = sns.color_palette()\n",
    "\n",
    "%matplotlib inline\n",
    "\n",
    "pd.options.mode.chained_assignment = None  # default='warn'"
   ]
  },
  {
   "cell_type": "code",
   "execution_count": 5,
   "metadata": {
    "collapsed": true
   },
   "outputs": [],
   "source": [
    "from sklearn.cluster import KMeans"
   ]
  },
  {
   "cell_type": "code",
   "execution_count": 6,
   "metadata": {
    "collapsed": true
   },
   "outputs": [],
   "source": [
    "from scipy.spatial.distance import cdist"
   ]
  },
  {
   "cell_type": "code",
   "execution_count": 7,
   "metadata": {
    "collapsed": false
   },
   "outputs": [
    {
     "name": "stdout",
     "output_type": "stream",
     "text": [
      "(30471, 292)\n",
      "(7662, 291)\n"
     ]
    }
   ],
   "source": [
    "data_path = \"./\"\n",
    "train_file = data_path + \"train.csv\"\n",
    "test_file = data_path + \"test.csv\"\n",
    "train_df = pd.read_csv(train_file)\n",
    "test_df = pd.read_csv(test_file)\n",
    "print(train_df.shape)\n",
    "print(test_df.shape)"
   ]
  },
  {
   "cell_type": "code",
   "execution_count": 8,
   "metadata": {
    "collapsed": false
   },
   "outputs": [],
   "source": [
    "macro_file = data_path + \"macro.csv\"\n",
    "macro_df = pd.read_csv(macro_file)"
   ]
  },
  {
   "cell_type": "code",
   "execution_count": 9,
   "metadata": {
    "collapsed": false
   },
   "outputs": [
    {
     "data": {
      "text/plain": [
       "(1746, 99)"
      ]
     },
     "execution_count": 9,
     "metadata": {},
     "output_type": "execute_result"
    }
   ],
   "source": [
    "macro_df.shape"
   ]
  },
  {
   "cell_type": "code",
   "execution_count": 10,
   "metadata": {
    "collapsed": false
   },
   "outputs": [],
   "source": [
    "macro_df_final = macro_df.fillna(macro_df.mean())"
   ]
  },
  {
   "cell_type": "code",
   "execution_count": 20,
   "metadata": {
    "collapsed": false
   },
   "outputs": [
    {
     "data": {
      "text/plain": [
       "0       29126.0\n",
       "1       29126.0\n",
       "2       29126.0\n",
       "3       29126.0\n",
       "4       29126.0\n",
       "5       29126.0\n",
       "6       29126.0\n",
       "7       29126.0\n",
       "8       29126.0\n",
       "9       29126.0\n",
       "10      29126.0\n",
       "11      29126.0\n",
       "12      29126.0\n",
       "13      29126.0\n",
       "14      29126.0\n",
       "15      29126.0\n",
       "16      29126.0\n",
       "17      29126.0\n",
       "18      29126.0\n",
       "19      29126.0\n",
       "20      29126.0\n",
       "21      29126.0\n",
       "22      29126.0\n",
       "23      29126.0\n",
       "24      29126.0\n",
       "25      29126.0\n",
       "26      29126.0\n",
       "27      29126.0\n",
       "28      29126.0\n",
       "29      29126.0\n",
       "         ...   \n",
       "1716    29126.0\n",
       "1717    29126.0\n",
       "1718    29126.0\n",
       "1719    29126.0\n",
       "1720    29126.0\n",
       "1721    29126.0\n",
       "1722    29126.0\n",
       "1723    29126.0\n",
       "1724    29126.0\n",
       "1725    29126.0\n",
       "1726    29126.0\n",
       "1727    29126.0\n",
       "1728    29126.0\n",
       "1729    29126.0\n",
       "1730    29126.0\n",
       "1731    29126.0\n",
       "1732    29126.0\n",
       "1733    29126.0\n",
       "1734    29126.0\n",
       "1735    29126.0\n",
       "1736    29126.0\n",
       "1737    29126.0\n",
       "1738    29126.0\n",
       "1739    29126.0\n",
       "1740    29126.0\n",
       "1741    29126.0\n",
       "1742    29126.0\n",
       "1743    29126.0\n",
       "1744    29126.0\n",
       "1745    29126.0\n",
       "Name: old_education_build_share, Length: 1746, dtype: float64"
      ]
     },
     "execution_count": 20,
     "metadata": {},
     "output_type": "execute_result"
    }
   ],
   "source": [
    "macro_df_final[\"old_education_build_share\"]"
   ]
  },
  {
   "cell_type": "code",
   "execution_count": 11,
   "metadata": {
    "collapsed": true
   },
   "outputs": [],
   "source": [
    "macro_matrix = macro_df_final.as_matrix()"
   ]
  },
  {
   "cell_type": "code",
   "execution_count": 12,
   "metadata": {
    "collapsed": false
   },
   "outputs": [
    {
     "data": {
      "text/plain": [
       "array([[  1.09310000e+02,   1.43137000e+04,   3.30000000e+00, ...,\n",
       "          6.41200000e+01,   2.35870000e+04,   2.30310000e+05],\n",
       "       [  1.09310000e+02,   1.43137000e+04,   3.30000000e+00, ...,\n",
       "          6.41200000e+01,   2.35870000e+04,   2.30310000e+05],\n",
       "       [  1.09310000e+02,   1.43137000e+04,   3.30000000e+00, ...,\n",
       "          6.41200000e+01,   2.35870000e+04,   2.30310000e+05],\n",
       "       ..., \n",
       "       [  4.50185000e+01,   1.85613000e+04,  -1.20000000e+00, ...,\n",
       "          7.07955838e+01,   4.26601659e+04,   2.30659240e+05],\n",
       "       [  4.50185000e+01,   1.85613000e+04,  -1.20000000e+00, ...,\n",
       "          7.07955838e+01,   4.26601659e+04,   2.30659240e+05],\n",
       "       [  4.50185000e+01,   1.85613000e+04,  -1.20000000e+00, ...,\n",
       "          7.07955838e+01,   4.26601659e+04,   2.30659240e+05]])"
      ]
     },
     "execution_count": 12,
     "metadata": {},
     "output_type": "execute_result"
    }
   ],
   "source": [
    "macro_matrix"
   ]
  },
  {
   "cell_type": "code",
   "execution_count": 13,
   "metadata": {
    "collapsed": true
   },
   "outputs": [],
   "source": [
    "macro_matrix_scaled = preprocessing.scale(macro_matrix)"
   ]
  },
  {
   "cell_type": "code",
   "execution_count": 14,
   "metadata": {
    "collapsed": false
   },
   "outputs": [
    {
     "data": {
      "text/plain": [
       "array([[  7.17336881e-01,  -1.87558566e+00,   8.13272670e-01, ...,\n",
       "         -1.98194755e+00,  -3.30939623e+00,  -1.16087486e-01],\n",
       "       [  7.17336881e-01,  -1.87558566e+00,   8.13272670e-01, ...,\n",
       "         -1.98194755e+00,  -3.30939623e+00,  -1.16087486e-01],\n",
       "       [  7.17336881e-01,  -1.87558566e+00,   8.13272670e-01, ...,\n",
       "         -1.98194755e+00,  -3.30939623e+00,  -1.16087486e-01],\n",
       "       ..., \n",
       "       [ -1.50818694e+00,   1.73442857e-01,  -7.38724651e-01, ...,\n",
       "         -2.32052256e-13,   0.00000000e+00,  -3.86964619e-14],\n",
       "       [ -1.50818694e+00,   1.73442857e-01,  -7.38724651e-01, ...,\n",
       "         -2.32052256e-13,   0.00000000e+00,  -3.86964619e-14],\n",
       "       [ -1.50818694e+00,   1.73442857e-01,  -7.38724651e-01, ...,\n",
       "         -2.32052256e-13,   0.00000000e+00,  -3.86964619e-14]])"
      ]
     },
     "execution_count": 14,
     "metadata": {},
     "output_type": "execute_result"
    }
   ],
   "source": [
    "macro_matrix_scaled"
   ]
  },
  {
   "cell_type": "code",
   "execution_count": 26,
   "metadata": {
    "collapsed": false
   },
   "outputs": [
    {
     "ename": "NameError",
     "evalue": "name 'font' is not defined",
     "output_type": "error",
     "traceback": [
      "\u001b[0;31m---------------------------------------------------------------------------\u001b[0m",
      "\u001b[0;31mNameError\u001b[0m                                 Traceback (most recent call last)",
      "\u001b[0;32m<ipython-input-26-e8b452aaf379>\u001b[0m in \u001b[0;36m<module>\u001b[0;34m()\u001b[0m\n\u001b[1;32m      8\u001b[0m \u001b[0mplt\u001b[0m\u001b[1;33m.\u001b[0m\u001b[0mplot\u001b[0m\u001b[1;33m(\u001b[0m\u001b[0mK\u001b[0m\u001b[1;33m,\u001b[0m\u001b[0mmeandistortions\u001b[0m\u001b[1;33m,\u001b[0m\u001b[1;34m'bx-'\u001b[0m\u001b[1;33m)\u001b[0m\u001b[1;33m\u001b[0m\u001b[0m\n\u001b[1;32m      9\u001b[0m \u001b[0mplt\u001b[0m\u001b[1;33m.\u001b[0m\u001b[0mxlabel\u001b[0m\u001b[1;33m(\u001b[0m\u001b[1;34m'k'\u001b[0m\u001b[1;33m)\u001b[0m\u001b[1;33m\u001b[0m\u001b[0m\n\u001b[0;32m---> 10\u001b[0;31m \u001b[0mplt\u001b[0m\u001b[1;33m.\u001b[0m\u001b[0mylabel\u001b[0m\u001b[1;33m(\u001b[0m\u001b[1;34mu'平均畸变程度'\u001b[0m\u001b[1;33m,\u001b[0m\u001b[0mfontproperties\u001b[0m\u001b[1;33m=\u001b[0m\u001b[0mfont\u001b[0m\u001b[1;33m)\u001b[0m\u001b[1;33m\u001b[0m\u001b[0m\n\u001b[0m\u001b[1;32m     11\u001b[0m \u001b[0mplt\u001b[0m\u001b[1;33m.\u001b[0m\u001b[0mtitle\u001b[0m\u001b[1;33m(\u001b[0m\u001b[1;34mu'用肘部法则来确定最佳的K值'\u001b[0m\u001b[1;33m,\u001b[0m\u001b[0mfontproperties\u001b[0m\u001b[1;33m=\u001b[0m\u001b[0mfont\u001b[0m\u001b[1;33m)\u001b[0m\u001b[1;33m\u001b[0m\u001b[0m\n",
      "\u001b[0;31mNameError\u001b[0m: name 'font' is not defined"
     ]
    },
    {
     "data": {
      "image/png": "[encoded data removed]",
      "text/plain": [
       "<matplotlib.figure.Figure at 0x8b5aed0>"
      ]
     },
     "metadata": {},
     "output_type": "display_data"
    }
   ],
   "source": [
    "K=range(1,10)\n",
    "meandistortions=[]\n",
    "for k in K:\n",
    "    kmeans=KMeans(n_clusters=k)\n",
    "    kmeans.fit(macro_matrix_scaled)\n",
    "    meandistortions.append(sum(np.min(cdist(\n",
    "            macro_matrix_scaled,kmeans.cluster_centers_,\"euclidean\"),axis=1))/macro_matrix_scaled.shape[0])\n",
    "plt.plot(K,meandistortions,'bx-')\n",
    "plt.xlabel('k')\n",
    "plt.ylabel(u'平均畸变程度',fontproperties=font)\n",
    "plt.title(u'用肘部法则来确定最佳的K值',fontproperties=font)"
   ]
  },
  {
   "cell_type": "code",
   "execution_count": 19,
   "metadata": {
    "collapsed": false
   },
   "outputs": [
    {
     "data": {
      "text/plain": [
       "KMeans(algorithm='auto', copy_x=True, init='k-means++', max_iter=300,\n",
       "    n_clusters=5, n_init=10, n_jobs=1, precompute_distances='auto',\n",
       "    random_state=None, tol=0.0001, verbose=0)"
      ]
     },
     "execution_count": 19,
     "metadata": {},
     "output_type": "execute_result"
    }
   ],
   "source": [
    "kmeans = KMeans(n_clusters=5)\n",
    "kmeans.fit(macro_matrix_scaled)"
   ]
  },
  {
   "cell_type": "code",
   "execution_count": 32,
   "metadata": {
    "collapsed": false
   },
   "outputs": [],
   "source": [
    "macro_df_final['label'] = kmeans.labels_"
   ]
  },
  {
   "cell_type": "code",
   "execution_count": 34,
   "metadata": {
    "collapsed": false
   },
   "outputs": [],
   "source": [
    "macro_df_final.to_csv('temp.csv', index=False)"
   ]
  }
 ],
 "metadata": {
  "anaconda-cloud": {},
  "kernelspec": {
   "display_name": "Python [default]",
   "language": "python",
   "name": "python3"
  },
  "language_info": {
   "codemirror_mode": {
    "name": "ipython",
    "version": 3
   },
   "file_extension": ".py",
   "mimetype": "text/x-python",
   "name": "python",
   "nbconvert_exporter": "python",
   "pygments_lexer": "ipython3",
   "version": "3.5.2"
  }
 },
 "nbformat": 4,
 "nbformat_minor": 1
}
