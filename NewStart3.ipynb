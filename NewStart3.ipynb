{
 "cells": [
  {
   "cell_type": "code",
   "execution_count": 1,
   "metadata": {
    "collapsed": false
   },
   "outputs": [
    {
     "name": "stderr",
     "output_type": "stream",
     "text": [
      "C:\\Users\\Administrator\\Anaconda3\\lib\\site-packages\\sklearn\\cross_validation.py:44: DeprecationWarning: This module was deprecated in version 0.18 in favor of the model_selection module into which all the refactored classes and functions are moved. Also note that the interface of the new CV iterators are different from that of this module. This module will be removed in 0.20.\n",
      "  \"This module will be removed in 0.20.\", DeprecationWarning)\n"
     ]
    }
   ],
   "source": [
    "import numpy as np\n",
    "import pandas as pd\n",
    "import xgboost as xgb"
   ]
  },
  {
   "cell_type": "code",
   "execution_count": 2,
   "metadata": {
    "collapsed": true
   },
   "outputs": [],
   "source": [
    "train_df = pd.read_csv(\"./train.csv\")\n",
    "test_df = pd.read_csv(\"./test.csv\")"
   ]
  },
  {
   "cell_type": "code",
   "execution_count": 3,
   "metadata": {
    "collapsed": true
   },
   "outputs": [],
   "source": [
    "inplace1 = (train_df[\"full_sq\"] < train_df[\"life_sq\"]) & (train_df[\"full_sq\"] < 10)\n",
    "temp3 = train_df[\"full_sq\"].copy()\n",
    "temp3[inplace1] = train_df[\"life_sq\"][inplace1]\n",
    "train_df[\"full_sq\"] = temp3"
   ]
  },
  {
   "cell_type": "code",
   "execution_count": 4,
   "metadata": {
    "collapsed": true
   },
   "outputs": [],
   "source": [
    "inplace2 = train_df[\"life_sq\"] < 2\n",
    "temp4 = train_df[\"life_sq\"].copy()\n",
    "temp4[inplace2] = train_df[\"full_sq\"][inplace2]\n",
    "train_df[\"life_sq\"] = temp4"
   ]
  },
  {
   "cell_type": "code",
   "execution_count": 5,
   "metadata": {
    "collapsed": true
   },
   "outputs": [],
   "source": [
    "inplace3 = (train_df[\"full_sq\"] < train_df[\"life_sq\"]) & (train_df[\"life_sq\"] > 30)\n",
    "temp5 = train_df[\"life_sq\"].copy()\n",
    "temp5[inplace3] = train_df[\"full_sq\"][inplace3]\n",
    "train_df[\"life_sq\"] = temp5"
   ]
  },
  {
   "cell_type": "code",
   "execution_count": 6,
   "metadata": {
    "collapsed": true
   },
   "outputs": [],
   "source": [
    "inplace1 = (test_df[\"full_sq\"] < test_df[\"life_sq\"]) & (test_df[\"full_sq\"] < 10)\n",
    "temp3 = test_df[\"full_sq\"].copy()\n",
    "temp3[inplace1] = test_df[\"life_sq\"][inplace1]\n",
    "test_df[\"full_sq\"] = temp3\n",
    "inplace2 = test_df[\"life_sq\"] < 2\n",
    "temp4 = test_df[\"life_sq\"].copy()\n",
    "temp4[inplace2] = test_df[\"full_sq\"][inplace2]\n",
    "test_df[\"life_sq\"] = temp4\n",
    "inplace3 = (test_df[\"full_sq\"] < test_df[\"life_sq\"]) & (test_df[\"life_sq\"] > 30)\n",
    "temp5 = test_df[\"life_sq\"].copy()\n",
    "temp5[inplace3] = test_df[\"full_sq\"][inplace3]\n",
    "test_df[\"life_sq\"] = temp5"
   ]
  },
  {
   "cell_type": "code",
   "execution_count": 7,
   "metadata": {
    "collapsed": true
   },
   "outputs": [],
   "source": [
    "train_df = train_df.replace({\"no\": -1, \"yes\": 1})\n",
    "test_df = test_df.replace({\"no\": -1, \"yes\": 1})"
   ]
  },
  {
   "cell_type": "code",
   "execution_count": 8,
   "metadata": {
    "collapsed": true
   },
   "outputs": [],
   "source": [
    "train_df.drop(['product_type'], axis=1, inplace=True)\n",
    "test_df.drop(['product_type'], axis=1, inplace=True)\n",
    "train_df.drop(['ecology'], axis=1, inplace=True)\n",
    "test_df.drop(['ecology'], axis=1, inplace=True)"
   ]
  },
  {
   "cell_type": "code",
   "execution_count": 9,
   "metadata": {
    "collapsed": true
   },
   "outputs": [],
   "source": [
    "y_train = train_df['price_doc'].values\n",
    "id_test = test_df['id']\n",
    "train_df.drop(['timestamp'], axis=1, inplace=True)\n",
    "test_df.drop(['timestamp'], axis=1, inplace=True)\n",
    "train_df.drop(\"id\", axis=1, inplace=True)\n",
    "train_df.drop(\"price_doc\", axis=1, inplace=True)\n",
    "test_df.drop(\"id\", axis=1, inplace=True)\n",
    "train_df.drop(\"sub_area\", axis=1, inplace=True)\n",
    "test_df.drop(\"sub_area\", axis=1, inplace=True)"
   ]
  },
  {
   "cell_type": "code",
   "execution_count": 10,
   "metadata": {
    "collapsed": false
   },
   "outputs": [
    {
     "name": "stderr",
     "output_type": "stream",
     "text": [
      "C:\\Users\\Administrator\\Anaconda3\\lib\\site-packages\\ipykernel\\__main__.py:1: DeprecationWarning: \n",
      ".ix is deprecated. Please use\n",
      ".loc for label based indexing or\n",
      ".iloc for positional indexing\n",
      "\n",
      "See the documentation here:\n",
      "http://pandas.pydata.org/pandas-docs/stable/indexing.html#deprecate_ix\n",
      "  if __name__ == '__main__':\n",
      "C:\\Users\\Administrator\\AppData\\Roaming\\Python\\Python35\\site-packages\\pandas\\core\\indexing.py:179: SettingWithCopyWarning: \n",
      "A value is trying to be set on a copy of a slice from a DataFrame\n",
      "\n",
      "See the caveats in the documentation: http://pandas.pydata.org/pandas-docs/stable/indexing.html#indexing-view-versus-copy\n",
      "  self._setitem_with_indexer(indexer, value)\n"
     ]
    }
   ],
   "source": [
    "train_df[\"material\"].ix[train_df[\"material\"] == 33] = 3"
   ]
  },
  {
   "cell_type": "code",
   "execution_count": 11,
   "metadata": {
    "collapsed": true
   },
   "outputs": [],
   "source": [
    "xgb_params = {\n",
    "    'eta': 0.05,\n",
    "    'max_depth': 5,\n",
    "    'subsample': 0.7,\n",
    "    'colsample_bytree': 0.7,\n",
    "    'objective': 'reg:linear',\n",
    "    'eval_metric': 'rmse',\n",
    "    'min_child_weight':1,\n",
    "    'silent': 1,\n",
    "    'seed':0\n",
    "}\n",
    "\n",
    "dtrain = xgb.DMatrix(train_df, y_train)\n",
    "dtest = xgb.DMatrix(test_df)"
   ]
  },
  {
   "cell_type": "code",
   "execution_count": 12,
   "metadata": {
    "collapsed": true
   },
   "outputs": [],
   "source": [
    "model = xgb.train(dict(xgb_params, silent=0), dtrain, num_boost_round= 450)"
   ]
  },
  {
   "cell_type": "code",
   "execution_count": 13,
   "metadata": {
    "collapsed": false
   },
   "outputs": [
    {
     "data": {
      "text/html": [
       "<div>\n",
       "<style>\n",
       "    .dataframe thead tr:only-child th {\n",
       "        text-align: right;\n",
       "    }\n",
       "\n",
       "    .dataframe thead th {\n",
       "        text-align: left;\n",
       "    }\n",
       "\n",
       "    .dataframe tbody tr th {\n",
       "        vertical-align: top;\n",
       "    }\n",
       "</style>\n",
       "<table border=\"1\" class=\"dataframe\">\n",
       "  <thead>\n",
       "    <tr style=\"text-align: right;\">\n",
       "      <th></th>\n",
       "      <th>id</th>\n",
       "      <th>price_doc</th>\n",
       "    </tr>\n",
       "  </thead>\n",
       "  <tbody>\n",
       "    <tr>\n",
       "      <th>0</th>\n",
       "      <td>30474</td>\n",
       "      <td>5348669.0</td>\n",
       "    </tr>\n",
       "    <tr>\n",
       "      <th>1</th>\n",
       "      <td>30475</td>\n",
       "      <td>7877209.0</td>\n",
       "    </tr>\n",
       "    <tr>\n",
       "      <th>2</th>\n",
       "      <td>30476</td>\n",
       "      <td>5186856.5</td>\n",
       "    </tr>\n",
       "    <tr>\n",
       "      <th>3</th>\n",
       "      <td>30477</td>\n",
       "      <td>5527826.5</td>\n",
       "    </tr>\n",
       "    <tr>\n",
       "      <th>4</th>\n",
       "      <td>30478</td>\n",
       "      <td>4993525.0</td>\n",
       "    </tr>\n",
       "  </tbody>\n",
       "</table>\n",
       "</div>"
      ],
      "text/plain": [
       "      id  price_doc\n",
       "0  30474  5348669.0\n",
       "1  30475  7877209.0\n",
       "2  30476  5186856.5\n",
       "3  30477  5527826.5\n",
       "4  30478  4993525.0"
      ]
     },
     "execution_count": 13,
     "metadata": {},
     "output_type": "execute_result"
    }
   ],
   "source": [
    "y_predict = model.predict(dtest)\n",
    "output = pd.DataFrame({'id': id_test, 'price_doc': y_predict})\n",
    "output[\"price_doc\"] = output[\"price_doc\"] * 0.96\n",
    "output.head()"
   ]
  },
  {
   "cell_type": "code",
   "execution_count": 14,
   "metadata": {
    "collapsed": true
   },
   "outputs": [],
   "source": [
    "output.to_csv('NewStart3.csv', index=False)"
   ]
  }
 ],
 "metadata": {
  "anaconda-cloud": {},
  "kernelspec": {
   "display_name": "Python [default]",
   "language": "python",
   "name": "python3"
  },
  "language_info": {
   "codemirror_mode": {
    "name": "ipython",
    "version": 3
   },
   "file_extension": ".py",
   "mimetype": "text/x-python",
   "name": "python",
   "nbconvert_exporter": "python",
   "pygments_lexer": "ipython3",
   "version": "3.5.2"
  }
 },
 "nbformat": 4,
 "nbformat_minor": 1
}
