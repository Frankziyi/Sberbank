{
 "cells": [
  {
   "cell_type": "code",
   "execution_count": 1,
   "metadata": {
    "collapsed": false
   },
   "outputs": [
    {
     "name": "stderr",
     "output_type": "stream",
     "text": [
      "C:\\Users\\Administrator\\Anaconda3\\lib\\site-packages\\sklearn\\cross_validation.py:44: DeprecationWarning: This module was deprecated in version 0.18 in favor of the model_selection module into which all the refactored classes and functions are moved. Also note that the interface of the new CV iterators are different from that of this module. This module will be removed in 0.20.\n",
      "  \"This module will be removed in 0.20.\", DeprecationWarning)\n"
     ]
    }
   ],
   "source": [
    "import numpy as np\n",
    "import pandas as pd\n",
    "import xgboost as xgb\n",
    "from sklearn.ensemble import RandomForestRegressor"
   ]
  },
  {
   "cell_type": "code",
   "execution_count": 2,
   "metadata": {
    "collapsed": true
   },
   "outputs": [],
   "source": [
    "train_df = pd.read_csv(\"./train.csv\")\n",
    "test_df = pd.read_csv(\"./test.csv\")\n",
    "fx = pd.read_excel('./BAD_ADDRESS_FIX.xlsx').drop_duplicates('id').set_index('id')"
   ]
  },
  {
   "cell_type": "code",
   "execution_count": 5,
   "metadata": {
    "collapsed": true
   },
   "outputs": [],
   "source": [
    "train_df.update(fx)\n",
    "test_df.update(fx)"
   ]
  },
  {
   "cell_type": "code",
   "execution_count": 7,
   "metadata": {
    "collapsed": true
   },
   "outputs": [],
   "source": [
    "from numpy import nan"
   ]
  },
  {
   "cell_type": "code",
   "execution_count": 8,
   "metadata": {
    "collapsed": false
   },
   "outputs": [
    {
     "name": "stderr",
     "output_type": "stream",
     "text": [
      "C:\\Users\\Administrator\\Anaconda3\\lib\\site-packages\\ipykernel\\__main__.py:9: DeprecationWarning: \n",
      ".ix is deprecated. Please use\n",
      ".loc for label based indexing or\n",
      ".iloc for positional indexing\n",
      "\n",
      "See the documentation here:\n",
      "http://pandas.pydata.org/pandas-docs/stable/indexing.html#deprecate_ix\n",
      "C:\\Users\\Administrator\\AppData\\Roaming\\Python\\Python35\\site-packages\\pandas\\core\\indexing.py:179: SettingWithCopyWarning: \n",
      "A value is trying to be set on a copy of a slice from a DataFrame\n",
      "\n",
      "See the caveats in the documentation: http://pandas.pydata.org/pandas-docs/stable/indexing.html#indexing-view-versus-copy\n",
      "  self._setitem_with_indexer(indexer, value)\n",
      "C:\\Users\\Administrator\\Anaconda3\\lib\\site-packages\\ipykernel\\__main__.py:10: DeprecationWarning: \n",
      ".ix is deprecated. Please use\n",
      ".loc for label based indexing or\n",
      ".iloc for positional indexing\n",
      "\n",
      "See the documentation here:\n",
      "http://pandas.pydata.org/pandas-docs/stable/indexing.html#deprecate_ix\n",
      "C:\\Users\\Administrator\\Anaconda3\\lib\\site-packages\\ipykernel\\__main__.py:11: DeprecationWarning: \n",
      ".ix is deprecated. Please use\n",
      ".loc for label based indexing or\n",
      ".iloc for positional indexing\n",
      "\n",
      "See the documentation here:\n",
      "http://pandas.pydata.org/pandas-docs/stable/indexing.html#deprecate_ix\n",
      "C:\\Users\\Administrator\\Anaconda3\\lib\\site-packages\\ipykernel\\__main__.py:12: DeprecationWarning: \n",
      ".ix is deprecated. Please use\n",
      ".loc for label based indexing or\n",
      ".iloc for positional indexing\n",
      "\n",
      "See the documentation here:\n",
      "http://pandas.pydata.org/pandas-docs/stable/indexing.html#deprecate_ix\n",
      "C:\\Users\\Administrator\\Anaconda3\\lib\\site-packages\\ipykernel\\__main__.py:13: DeprecationWarning: \n",
      ".ix is deprecated. Please use\n",
      ".loc for label based indexing or\n",
      ".iloc for positional indexing\n",
      "\n",
      "See the documentation here:\n",
      "http://pandas.pydata.org/pandas-docs/stable/indexing.html#deprecate_ix\n",
      "C:\\Users\\Administrator\\Anaconda3\\lib\\site-packages\\ipykernel\\__main__.py:40: DeprecationWarning: \n",
      ".ix is deprecated. Please use\n",
      ".loc for label based indexing or\n",
      ".iloc for positional indexing\n",
      "\n",
      "See the documentation here:\n",
      "http://pandas.pydata.org/pandas-docs/stable/indexing.html#deprecate_ix\n",
      "C:\\Users\\Administrator\\Anaconda3\\lib\\site-packages\\ipykernel\\__main__.py:42: DeprecationWarning: \n",
      ".ix is deprecated. Please use\n",
      ".loc for label based indexing or\n",
      ".iloc for positional indexing\n",
      "\n",
      "See the documentation here:\n",
      "http://pandas.pydata.org/pandas-docs/stable/indexing.html#deprecate_ix\n",
      "C:\\Users\\Administrator\\Anaconda3\\lib\\site-packages\\ipykernel\\__main__.py:52: DeprecationWarning: \n",
      ".ix is deprecated. Please use\n",
      ".loc for label based indexing or\n",
      ".iloc for positional indexing\n",
      "\n",
      "See the documentation here:\n",
      "http://pandas.pydata.org/pandas-docs/stable/indexing.html#deprecate_ix\n",
      "C:\\Users\\Administrator\\Anaconda3\\lib\\site-packages\\ipykernel\\__main__.py:53: DeprecationWarning: \n",
      ".ix is deprecated. Please use\n",
      ".loc for label based indexing or\n",
      ".iloc for positional indexing\n",
      "\n",
      "See the documentation here:\n",
      "http://pandas.pydata.org/pandas-docs/stable/indexing.html#deprecate_ix\n",
      "C:\\Users\\Administrator\\Anaconda3\\lib\\site-packages\\ipykernel\\__main__.py:57: DeprecationWarning: \n",
      ".ix is deprecated. Please use\n",
      ".loc for label based indexing or\n",
      ".iloc for positional indexing\n",
      "\n",
      "See the documentation here:\n",
      "http://pandas.pydata.org/pandas-docs/stable/indexing.html#deprecate_ix\n",
      "C:\\Users\\Administrator\\Anaconda3\\lib\\site-packages\\ipykernel\\__main__.py:58: DeprecationWarning: \n",
      ".ix is deprecated. Please use\n",
      ".loc for label based indexing or\n",
      ".iloc for positional indexing\n",
      "\n",
      "See the documentation here:\n",
      "http://pandas.pydata.org/pandas-docs/stable/indexing.html#deprecate_ix\n",
      "C:\\Users\\Administrator\\Anaconda3\\lib\\site-packages\\ipykernel\\__main__.py:64: DeprecationWarning: \n",
      ".ix is deprecated. Please use\n",
      ".loc for label based indexing or\n",
      ".iloc for positional indexing\n",
      "\n",
      "See the documentation here:\n",
      "http://pandas.pydata.org/pandas-docs/stable/indexing.html#deprecate_ix\n",
      "C:\\Users\\Administrator\\Anaconda3\\lib\\site-packages\\ipykernel\\__main__.py:65: DeprecationWarning: \n",
      ".ix is deprecated. Please use\n",
      ".loc for label based indexing or\n",
      ".iloc for positional indexing\n",
      "\n",
      "See the documentation here:\n",
      "http://pandas.pydata.org/pandas-docs/stable/indexing.html#deprecate_ix\n"
     ]
    }
   ],
   "source": [
    "train_df[\"datetime\"] = pd.to_datetime(train_df[\"timestamp\"])\n",
    "train_df[\"year\"] = train_df[\"datetime\"].dt.year\n",
    "train_df[\"month\"] = train_df[\"datetime\"].dt.month\n",
    "train_df[\"day\"] = train_df[\"datetime\"].dt.day\n",
    "test_df[\"datetime\"] = pd.to_datetime(test_df[\"timestamp\"])\n",
    "test_df[\"year\"] = test_df[\"datetime\"].dt.year\n",
    "test_df[\"month\"] = test_df[\"datetime\"].dt.month\n",
    "test_df[\"day\"] = test_df[\"datetime\"].dt.day\n",
    "train_df[\"kitch_sq\"].ix[train_df[\"kitch_sq\"] > 1000] = np.nan\n",
    "test_df[\"kitch_sq\"].ix[test_df[\"kitch_sq\"] > 1000] = np.nan\n",
    "train_df[\"max_floor\"].ix[train_df[\"max_floor\"] > 98] = np.nan\n",
    "test_df[\"max_floor\"].ix[test_df[\"max_floor\"] > 98] = np.nan\n",
    "train_df[\"state\"].ix[train_df[\"state\"] == 33] = 3\n",
    "inplace1 = (train_df[\"full_sq\"] < train_df[\"life_sq\"]) & (train_df[\"full_sq\"] < 10)\n",
    "temp3 = train_df[\"full_sq\"].copy()\n",
    "temp3[inplace1] = train_df[\"life_sq\"][inplace1]\n",
    "train_df[\"full_sq\"] = temp3\n",
    "inplace2 = train_df[\"life_sq\"] < 2\n",
    "temp4 = train_df[\"life_sq\"].copy()\n",
    "temp4[inplace2] = train_df[\"full_sq\"][inplace2]\n",
    "train_df[\"life_sq\"] = temp4\n",
    "inplace3 = (train_df[\"full_sq\"] < train_df[\"life_sq\"]) & (train_df[\"life_sq\"] > 30)\n",
    "temp5 = train_df[\"life_sq\"].copy()\n",
    "temp5[inplace3] = train_df[\"full_sq\"][inplace3]\n",
    "train_df[\"life_sq\"] = temp5\n",
    "inplace1 = (test_df[\"full_sq\"] < test_df[\"life_sq\"]) & (test_df[\"full_sq\"] < 10)\n",
    "temp3 = test_df[\"full_sq\"].copy()\n",
    "temp3[inplace1] = test_df[\"life_sq\"][inplace1]\n",
    "test_df[\"full_sq\"] = temp3\n",
    "inplace2 = test_df[\"life_sq\"] < 2\n",
    "temp4 = test_df[\"life_sq\"].copy()\n",
    "temp4[inplace2] = test_df[\"full_sq\"][inplace2]\n",
    "test_df[\"life_sq\"] = temp4\n",
    "inplace3 = (test_df[\"full_sq\"] < test_df[\"life_sq\"]) & (test_df[\"life_sq\"] > 30)\n",
    "temp5 = test_df[\"life_sq\"].copy()\n",
    "temp5[inplace3] = test_df[\"full_sq\"][inplace3]\n",
    "test_df[\"life_sq\"] = temp5\n",
    "train_df = train_df.replace({\"no\": 0, \"yes\": 1})\n",
    "test_df = test_df.replace({\"no\": 0, \"yes\": 1})\n",
    "train_df[\"product_type\"].ix[train_df[\"product_type\"] == \"Investment\"] = 0\n",
    "train_df[\"product_type\"].ix[train_df[\"product_type\"] == \"OwnerOccupier\"] = 1\n",
    "test_df[\"product_type\"].ix[test_df[\"product_type\"] == \"Investment\"] = 0\n",
    "test_df[\"product_type\"].ix[test_df[\"product_type\"] == \"OwnerOccupier\"] = 1\n",
    "temp = train_df[\"build_year\"].copy() \n",
    "temp[train_df[\"build_year\"] < 1000] = train_df[\"year\"][train_df[\"build_year\"] < 1000] + train_df[\"build_year\"][train_df[\"build_year\"] < 1000]\n",
    "temp2 = test_df[\"build_year\"].copy() \n",
    "temp2[test_df[\"build_year\"] < 1000] = test_df[\"year\"][test_df[\"build_year\"] < 1000] + test_df[\"build_year\"][test_df[\"build_year\"] < 1000]\n",
    "train_df[\"build_year\"] = temp\n",
    "test_df[\"build_year\"] = temp2\n",
    "train_df[\"build_age\"] = train_df[\"year\"] - train_df[\"build_year\"]\n",
    "test_df[\"build_age\"] = test_df[\"year\"] - test_df[\"build_year\"]\n",
    "train_df[\"ecology\"].ix[train_df[\"ecology\"] == \"poor\"] = 1\n",
    "train_df[\"ecology\"].ix[train_df[\"ecology\"] == \"good\"] = 2\n",
    "train_df[\"ecology\"].ix[train_df[\"ecology\"] == \"satisfactory\"] = 3\n",
    "train_df[\"ecology\"].ix[train_df[\"ecology\"] == \"excellent\"] = 4\n",
    "train_df[\"ecology\"].ix[train_df[\"ecology\"] == \"no data\"] = nan\n",
    "test_df[\"ecology\"].ix[test_df[\"ecology\"] == \"poor\"] = 1\n",
    "test_df[\"ecology\"].ix[test_df[\"ecology\"] == \"good\"] = 2\n",
    "test_df[\"ecology\"].ix[test_df[\"ecology\"] == \"satisfactory\"] = 3\n",
    "test_df[\"ecology\"].ix[test_df[\"ecology\"] == \"excellent\"] = 4\n",
    "test_df[\"ecology\"].ix[test_df[\"ecology\"] == \"no data\"] = nan\n",
    "train_df[\"floor_inverse\"] = train_df[\"max_floor\"] - train_df[\"floor\"]\n",
    "test_df[\"floor_inverse\"] = test_df[\"max_floor\"] - test_df[\"floor\"]\n",
    "train_df[\"floor_inverse\"].ix[train_df[\"floor_inverse\"] < 0] = nan\n",
    "test_df[\"floor_inverse\"].ix[test_df[\"floor_inverse\"] < 0] = nan\n",
    "train_df.drop(\"build_year\", axis=1, inplace=True)\n",
    "test_df.drop(\"build_year\", axis=1, inplace=True)\n",
    "train_df.drop(\"product_type\", axis=1, inplace=True)\n",
    "test_df.drop(\"product_type\", axis=1, inplace=True)\n",
    "train_df.drop(\"ecology\", axis=1, inplace=True)\n",
    "test_df.drop(\"ecology\", axis=1, inplace=True)\n",
    "train_df.drop(\"datetime\", axis=1, inplace=True)\n",
    "test_df.drop(\"datetime\", axis=1, inplace=True)"
   ]
  },
  {
   "cell_type": "code",
   "execution_count": 9,
   "metadata": {
    "collapsed": false
   },
   "outputs": [
    {
     "name": "stderr",
     "output_type": "stream",
     "text": [
      "C:\\Users\\Administrator\\Anaconda3\\lib\\site-packages\\ipykernel\\__main__.py:1: DeprecationWarning: \n",
      ".ix is deprecated. Please use\n",
      ".loc for label based indexing or\n",
      ".iloc for positional indexing\n",
      "\n",
      "See the documentation here:\n",
      "http://pandas.pydata.org/pandas-docs/stable/indexing.html#deprecate_ix\n",
      "  if __name__ == '__main__':\n",
      "C:\\Users\\Administrator\\AppData\\Roaming\\Python\\Python35\\site-packages\\pandas\\core\\indexing.py:179: SettingWithCopyWarning: \n",
      "A value is trying to be set on a copy of a slice from a DataFrame\n",
      "\n",
      "See the caveats in the documentation: http://pandas.pydata.org/pandas-docs/stable/indexing.html#indexing-view-versus-copy\n",
      "  self._setitem_with_indexer(indexer, value)\n",
      "C:\\Users\\Administrator\\Anaconda3\\lib\\site-packages\\ipykernel\\__main__.py:2: DeprecationWarning: \n",
      ".ix is deprecated. Please use\n",
      ".loc for label based indexing or\n",
      ".iloc for positional indexing\n",
      "\n",
      "See the documentation here:\n",
      "http://pandas.pydata.org/pandas-docs/stable/indexing.html#deprecate_ix\n",
      "  from ipykernel import kernelapp as app\n"
     ]
    }
   ],
   "source": [
    "train_df[\"build_age\"].ix[train_df[\"build_age\"] < -5] = np.nan\n",
    "test_df[\"build_age\"].ix[test_df[\"build_age\"] < -5] = np.nan"
   ]
  },
  {
   "cell_type": "code",
   "execution_count": 10,
   "metadata": {
    "collapsed": true
   },
   "outputs": [],
   "source": [
    "y_train = train_df['price_doc'].values\n",
    "id_test = test_df['id']"
   ]
  },
  {
   "cell_type": "code",
   "execution_count": 11,
   "metadata": {
    "collapsed": true
   },
   "outputs": [],
   "source": [
    "train_df.drop(['price_doc'], axis=1, inplace=True)"
   ]
  },
  {
   "cell_type": "code",
   "execution_count": 12,
   "metadata": {
    "collapsed": false
   },
   "outputs": [],
   "source": [
    "train_df.drop(['sub_area'], axis=1, inplace=True)\n",
    "test_df.drop(['sub_area'], axis=1, inplace=True)"
   ]
  },
  {
   "cell_type": "code",
   "execution_count": 14,
   "metadata": {
    "collapsed": true
   },
   "outputs": [],
   "source": [
    "train_df.drop(['timestamp'], axis=1, inplace=True)\n",
    "test_df.drop(['timestamp'], axis=1, inplace=True)"
   ]
  },
  {
   "cell_type": "code",
   "execution_count": 15,
   "metadata": {
    "collapsed": false
   },
   "outputs": [],
   "source": [
    "xgb_params = {\n",
    "    'eta': 0.05,\n",
    "    'max_depth': 4,\n",
    "    'subsample': 0.7,\n",
    "    'colsample_bytree': 0.7,\n",
    "    'objective': 'reg:linear',\n",
    "    'eval_metric': 'rmse',\n",
    "    'min_child_weight':1,\n",
    "    'silent': 1,\n",
    "    'seed':0\n",
    "}\n",
    "\n",
    "dtrain = xgb.DMatrix(train_df, y_train)\n",
    "dtest = xgb.DMatrix(test_df)"
   ]
  },
  {
   "cell_type": "code",
   "execution_count": 16,
   "metadata": {
    "collapsed": true
   },
   "outputs": [],
   "source": [
    "model = xgb.train(dict(xgb_params, silent=1), dtrain, num_boost_round= 489)"
   ]
  },
  {
   "cell_type": "code",
   "execution_count": 17,
   "metadata": {
    "collapsed": false
   },
   "outputs": [],
   "source": [
    "y_predict = model.predict(dtest)\n",
    "output = pd.DataFrame({'id': id_test, 'price_doc': y_predict})"
   ]
  },
  {
   "cell_type": "code",
   "execution_count": 18,
   "metadata": {
    "collapsed": true
   },
   "outputs": [],
   "source": [
    "output[\"price_doc\"] = output[\"price_doc\"] * 0.969"
   ]
  },
  {
   "cell_type": "code",
   "execution_count": 19,
   "metadata": {
    "collapsed": false
   },
   "outputs": [
    {
     "data": {
      "text/html": [
       "<div>\n",
       "<style>\n",
       "    .dataframe thead tr:only-child th {\n",
       "        text-align: right;\n",
       "    }\n",
       "\n",
       "    .dataframe thead th {\n",
       "        text-align: left;\n",
       "    }\n",
       "\n",
       "    .dataframe tbody tr th {\n",
       "        vertical-align: top;\n",
       "    }\n",
       "</style>\n",
       "<table border=\"1\" class=\"dataframe\">\n",
       "  <thead>\n",
       "    <tr style=\"text-align: right;\">\n",
       "      <th></th>\n",
       "      <th>id</th>\n",
       "      <th>price_doc</th>\n",
       "    </tr>\n",
       "  </thead>\n",
       "  <tbody>\n",
       "    <tr>\n",
       "      <th>0</th>\n",
       "      <td>30474</td>\n",
       "      <td>5900034.5</td>\n",
       "    </tr>\n",
       "    <tr>\n",
       "      <th>1</th>\n",
       "      <td>30475</td>\n",
       "      <td>8167420.0</td>\n",
       "    </tr>\n",
       "    <tr>\n",
       "      <th>2</th>\n",
       "      <td>30476</td>\n",
       "      <td>5655969.5</td>\n",
       "    </tr>\n",
       "    <tr>\n",
       "      <th>3</th>\n",
       "      <td>30477</td>\n",
       "      <td>5869485.5</td>\n",
       "    </tr>\n",
       "    <tr>\n",
       "      <th>4</th>\n",
       "      <td>30478</td>\n",
       "      <td>5268521.5</td>\n",
       "    </tr>\n",
       "  </tbody>\n",
       "</table>\n",
       "</div>"
      ],
      "text/plain": [
       "      id  price_doc\n",
       "0  30474  5900034.5\n",
       "1  30475  8167420.0\n",
       "2  30476  5655969.5\n",
       "3  30477  5869485.5\n",
       "4  30478  5268521.5"
      ]
     },
     "execution_count": 19,
     "metadata": {},
     "output_type": "execute_result"
    }
   ],
   "source": [
    "output.head()"
   ]
  },
  {
   "cell_type": "code",
   "execution_count": 20,
   "metadata": {
    "collapsed": true
   },
   "outputs": [],
   "source": [
    "output.to_csv('628_2.csv', index=False)"
   ]
  },
  {
   "cell_type": "code",
   "execution_count": null,
   "metadata": {
    "collapsed": true
   },
   "outputs": [],
   "source": []
  }
 ],
 "metadata": {
  "anaconda-cloud": {},
  "kernelspec": {
   "display_name": "Python [default]",
   "language": "python",
   "name": "python3"
  },
  "language_info": {
   "codemirror_mode": {
    "name": "ipython",
    "version": 3
   },
   "file_extension": ".py",
   "mimetype": "text/x-python",
   "name": "python",
   "nbconvert_exporter": "python",
   "pygments_lexer": "ipython3",
   "version": "3.5.2"
  }
 },
 "nbformat": 4,
 "nbformat_minor": 1
}
