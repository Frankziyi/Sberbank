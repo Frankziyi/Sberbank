{
 "cells": [
  {
   "cell_type": "code",
   "execution_count": 1,
   "metadata": {
    "collapsed": true
   },
   "outputs": [],
   "source": [
    "import pandas as pd"
   ]
  },
  {
   "cell_type": "code",
   "execution_count": 7,
   "metadata": {
    "collapsed": true
   },
   "outputs": [],
   "source": [
    "train_df = pd.read_csv(\"./trainse.csv\")"
   ]
  },
  {
   "cell_type": "code",
   "execution_count": 9,
   "metadata": {
    "collapsed": false
   },
   "outputs": [
    {
     "data": {
      "text/plain": [
       "2014.0        919\n",
       "2015.0        824\n",
       "0.0           530\n",
       "2013.0        464\n",
       "1970.0        418\n",
       "1969.0        407\n",
       "1968.0        389\n",
       "1967.0        384\n",
       "1965.0        378\n",
       "2016.0        375\n",
       "1.0           368\n",
       "1972.0        360\n",
       "1974.0        357\n",
       "1971.0        352\n",
       "1966.0        348\n",
       "1960.0        344\n",
       "1962.0        338\n",
       "1973.0        333\n",
       "1963.0        325\n",
       "1964.0        315\n",
       "1975.0        309\n",
       "1961.0        297\n",
       "1976.0        263\n",
       "1977.0        260\n",
       "2006.0        242\n",
       "1979.0        236\n",
       "1978.0        235\n",
       "2008.0        234\n",
       "2012.0        233\n",
       "1980.0        226\n",
       "             ... \n",
       "1912.0          5\n",
       "1947.0          4\n",
       "1949.0          3\n",
       "1914.0          3\n",
       "1924.0          3\n",
       "1941.0          2\n",
       "3.0             2\n",
       "1943.0          2\n",
       "1860.0          2\n",
       "1896.0          2\n",
       "1946.0          2\n",
       "1907.0          2\n",
       "1900.0          2\n",
       "1895.0          1\n",
       "1691.0          1\n",
       "20052009.0      1\n",
       "1911.0          1\n",
       "2018.0          1\n",
       "215.0           1\n",
       "1886.0          1\n",
       "1905.0          1\n",
       "4965.0          1\n",
       "1906.0          1\n",
       "1920.0          1\n",
       "1925.0          1\n",
       "1948.0          1\n",
       "1904.0          1\n",
       "71.0            1\n",
       "20.0            1\n",
       "1876.0          1\n",
       "Name: build_year, Length: 119, dtype: int64"
      ]
     },
     "execution_count": 9,
     "metadata": {},
     "output_type": "execute_result"
    }
   ],
   "source": [
    "train_df[\"build_year\"].value_counts()"
   ]
  },
  {
   "cell_type": "code",
   "execution_count": 11,
   "metadata": {
    "collapsed": false
   },
   "outputs": [
    {
     "data": {
      "text/plain": [
       "38     1928\n",
       "37     1232\n",
       "39     1013\n",
       "44     1008\n",
       "45      943\n",
       "40      860\n",
       "32      846\n",
       "43      832\n",
       "41      764\n",
       "51      750\n",
       "42      695\n",
       "53      665\n",
       "52      654\n",
       "60      635\n",
       "63      628\n",
       "34      614\n",
       "35      613\n",
       "64      608\n",
       "58      576\n",
       "59      575\n",
       "54      567\n",
       "36      544\n",
       "61      543\n",
       "31      516\n",
       "46      479\n",
       "62      474\n",
       "79      470\n",
       "74      466\n",
       "57      466\n",
       "56      447\n",
       "       ... \n",
       "173       1\n",
       "189       1\n",
       "461       1\n",
       "637       1\n",
       "145       1\n",
       "193       1\n",
       "177       1\n",
       "195       1\n",
       "291       1\n",
       "388       1\n",
       "5         1\n",
       "325       1\n",
       "6         1\n",
       "182       1\n",
       "199       1\n",
       "226       1\n",
       "210       1\n",
       "215       1\n",
       "407       1\n",
       "207       1\n",
       "168       1\n",
       "184       1\n",
       "216       1\n",
       "9         1\n",
       "185       1\n",
       "729       1\n",
       "10        1\n",
       "353       1\n",
       "186       1\n",
       "303       1\n",
       "Name: full_sq, Length: 211, dtype: int64"
      ]
     },
     "execution_count": 11,
     "metadata": {},
     "output_type": "execute_result"
    }
   ],
   "source": [
    "train_df[\"full_sq\"].value_counts()"
   ]
  },
  {
   "cell_type": "code",
   "execution_count": 12,
   "metadata": {
    "collapsed": false
   },
   "outputs": [
    {
     "data": {
      "text/plain": [
       "19.0     2138\n",
       "30.0     1565\n",
       "18.0     1544\n",
       "20.0     1208\n",
       "28.0     1067\n",
       "29.0      804\n",
       "32.0      701\n",
       "27.0      700\n",
       "17.0      699\n",
       "44.0      695\n",
       "45.0      626\n",
       "43.0      626\n",
       "38.0      534\n",
       "31.0      520\n",
       "21.0      518\n",
       "34.0      503\n",
       "33.0      461\n",
       "37.0      402\n",
       "1.0       390\n",
       "46.0      386\n",
       "22.0      379\n",
       "26.0      373\n",
       "40.0      367\n",
       "42.0      346\n",
       "23.0      317\n",
       "41.0      293\n",
       "16.0      282\n",
       "39.0      280\n",
       "36.0      263\n",
       "35.0      241\n",
       "         ... \n",
       "174.0       1\n",
       "637.0       1\n",
       "232.0       1\n",
       "109.0       1\n",
       "162.0       1\n",
       "163.0       1\n",
       "209.0       1\n",
       "147.0       1\n",
       "802.0       1\n",
       "195.0       1\n",
       "167.0       1\n",
       "407.0       1\n",
       "301.0       1\n",
       "259.0       1\n",
       "179.0       1\n",
       "111.0       1\n",
       "426.0       1\n",
       "136.0       1\n",
       "325.0       1\n",
       "172.0       1\n",
       "191.0       1\n",
       "150.0       1\n",
       "183.0       1\n",
       "130.0       1\n",
       "176.0       1\n",
       "143.0       1\n",
       "145.0       1\n",
       "435.0       1\n",
       "157.0       1\n",
       "458.0       1\n",
       "Name: life_sq, Length: 175, dtype: int64"
      ]
     },
     "execution_count": 12,
     "metadata": {},
     "output_type": "execute_result"
    }
   ],
   "source": [
    "train_df[\"life_sq\"].value_counts()"
   ]
  },
  {
   "cell_type": "code",
   "execution_count": 17,
   "metadata": {
    "collapsed": false
   },
   "outputs": [
    {
     "data": {
      "text/plain": [
       "False    30464\n",
       "True         7\n",
       "dtype: int64"
      ]
     },
     "execution_count": 17,
     "metadata": {},
     "output_type": "execute_result"
    }
   ],
   "source": [
    "inplace1 = (train_df[\"full_sq\"] < train_df[\"life_sq\"]) & (train_df[\"full_sq\"] < 10)\n",
    "inplace1.value_counts()"
   ]
  },
  {
   "cell_type": "code",
   "execution_count": 18,
   "metadata": {
    "collapsed": false
   },
   "outputs": [
    {
     "data": {
      "text/plain": [
       "False    30036\n",
       "True       435\n",
       "Name: life_sq, dtype: int64"
      ]
     },
     "execution_count": 18,
     "metadata": {},
     "output_type": "execute_result"
    }
   ],
   "source": [
    "inplace2 = train_df[\"life_sq\"] < 2\n",
    "inplace2.value_counts()"
   ]
  },
  {
   "cell_type": "code",
   "execution_count": 26,
   "metadata": {
    "collapsed": false
   },
   "outputs": [
    {
     "data": {
      "text/plain": [
       "False    30458\n",
       "True        13\n",
       "dtype: int64"
      ]
     },
     "execution_count": 26,
     "metadata": {},
     "output_type": "execute_result"
    }
   ],
   "source": [
    "inplace3 = (train_df[\"full_sq\"] < train_df[\"life_sq\"]) & (train_df[\"life_sq\"] > 100)\n",
    "inplace3.value_counts()"
   ]
  },
  {
   "cell_type": "code",
   "execution_count": null,
   "metadata": {
    "collapsed": true
   },
   "outputs": [],
   "source": [
    "train_df[\"build_age\"] = train_df[\"year\"] - train_df[\"build_year\"]"
   ]
  },
  {
   "cell_type": "code",
   "execution_count": null,
   "metadata": {
    "collapsed": true
   },
   "outputs": [],
   "source": [
    "train_df[\"life_full_ratio\"] = train_df[\"life_sq\"] / train_df[\"full_sq\"]"
   ]
  },
  {
   "cell_type": "code",
   "execution_count": null,
   "metadata": {
    "collapsed": true
   },
   "outputs": [],
   "source": [
    "train_df[\"floor_position\"] = train_df[\"floor\"] / train_df[\"max_floor\"]"
   ]
  }
 ],
 "metadata": {
  "anaconda-cloud": {},
  "kernelspec": {
   "display_name": "Python [default]",
   "language": "python",
   "name": "python3"
  },
  "language_info": {
   "codemirror_mode": {
    "name": "ipython",
    "version": 3
   },
   "file_extension": ".py",
   "mimetype": "text/x-python",
   "name": "python",
   "nbconvert_exporter": "python",
   "pygments_lexer": "ipython3",
   "version": "3.5.2"
  }
 },
 "nbformat": 4,
 "nbformat_minor": 1
}
